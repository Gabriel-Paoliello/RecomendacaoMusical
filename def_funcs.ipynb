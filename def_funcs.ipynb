{
 "cells": [
  {
   "cell_type": "code",
   "execution_count": 30,
   "metadata": {},
   "outputs": [],
   "source": [
    "import cv2\n",
    "import numpy as np\n",
    "import os\n",
    "from deepface import DeepFace\n",
    "import pandas as pd"
   ]
  },
  {
   "cell_type": "code",
   "execution_count": 31,
   "metadata": {},
   "outputs": [],
   "source": [
    "backends = ['opencv', 'ssd', 'dlib', 'mtcnn', 'retinaface', 'mediapipe']"
   ]
  },
  {
   "cell_type": "code",
   "execution_count": 5,
   "metadata": {},
   "outputs": [
    {
     "name": "stderr",
     "output_type": "stream",
     "text": [
      "Action: race: 100%|██████████| 4/4 [00:02<00:00,  1.60it/s]   \n"
     ]
    },
    {
     "data": {
      "text/plain": [
       "{'emotion': {'angry': 92.75539517402649,\n",
       "  'disgust': 0.0017425029000150971,\n",
       "  'fear': 1.5302582643926144,\n",
       "  'happy': 3.283614091742493e-05,\n",
       "  'sad': 5.704148858785629,\n",
       "  'surprise': 3.5221166427845674e-06,\n",
       "  'neutral': 0.008420277299592271},\n",
       " 'dominant_emotion': 'angry',\n",
       " 'region': {'x': 23, 'y': 0, 'w': 163, 'h': 217},\n",
       " 'age': 32,\n",
       " 'gender': 'Man',\n",
       " 'race': {'asian': 0.01859418185888298,\n",
       "  'indian': 0.023022318948659276,\n",
       "  'black': 0.0015931687732337945,\n",
       "  'white': 94.27855679052391,\n",
       "  'middle eastern': 2.4695657974999192,\n",
       "  'latino hispanic': 3.208669637600227},\n",
       " 'dominant_race': 'white'}"
      ]
     },
     "execution_count": 5,
     "metadata": {},
     "output_type": "execute_result"
    }
   ],
   "source": [
    "image_path = 'img_database_r\\\\Homem\\\\Pessoa 4\\\\Bravo_r.png'\n",
    "\n",
    "fname = image_path\n",
    "predictions = DeepFace.analyze(fname, detector_backend=backends[3])\n",
    "predictions"
   ]
  },
  {
   "cell_type": "code",
   "execution_count": 86,
   "metadata": {},
   "outputs": [],
   "source": [
    "df = pd.DataFrame(columns=list(predictions.keys()), data=[list(predictions.values())])"
   ]
  },
  {
   "cell_type": "code",
   "execution_count": 87,
   "metadata": {},
   "outputs": [
    {
     "data": {
      "text/html": [
       "<div>\n",
       "<style scoped>\n",
       "    .dataframe tbody tr th:only-of-type {\n",
       "        vertical-align: middle;\n",
       "    }\n",
       "\n",
       "    .dataframe tbody tr th {\n",
       "        vertical-align: top;\n",
       "    }\n",
       "\n",
       "    .dataframe thead th {\n",
       "        text-align: right;\n",
       "    }\n",
       "</style>\n",
       "<table border=\"1\" class=\"dataframe\">\n",
       "  <thead>\n",
       "    <tr style=\"text-align: right;\">\n",
       "      <th></th>\n",
       "      <th>emotion</th>\n",
       "      <th>dominant_emotion</th>\n",
       "      <th>region</th>\n",
       "      <th>age</th>\n",
       "      <th>gender</th>\n",
       "      <th>race</th>\n",
       "      <th>dominant_race</th>\n",
       "    </tr>\n",
       "  </thead>\n",
       "  <tbody>\n",
       "    <tr>\n",
       "      <th>0</th>\n",
       "      <td>{'angry': 92.75539517402649, 'disgust': 0.0017...</td>\n",
       "      <td>angry</td>\n",
       "      <td>{'x': 23, 'y': 0, 'w': 163, 'h': 217}</td>\n",
       "      <td>32</td>\n",
       "      <td>Man</td>\n",
       "      <td>{'asian': 0.01859418185888298, 'indian': 0.023...</td>\n",
       "      <td>white</td>\n",
       "    </tr>\n",
       "  </tbody>\n",
       "</table>\n",
       "</div>"
      ],
      "text/plain": [
       "                                             emotion dominant_emotion  \\\n",
       "0  {'angry': 92.75539517402649, 'disgust': 0.0017...            angry   \n",
       "\n",
       "                                  region  age gender  \\\n",
       "0  {'x': 23, 'y': 0, 'w': 163, 'h': 217}   32    Man   \n",
       "\n",
       "                                                race dominant_race  \n",
       "0  {'asian': 0.01859418185888298, 'indian': 0.023...         white  "
      ]
     },
     "execution_count": 87,
     "metadata": {},
     "output_type": "execute_result"
    }
   ],
   "source": [
    "df"
   ]
  },
  {
   "cell_type": "code",
   "execution_count": 88,
   "metadata": {},
   "outputs": [],
   "source": [
    "for emotion in predictions['emotion']:\n",
    "    df[emotion] = predictions['emotion'][emotion]\n"
   ]
  },
  {
   "cell_type": "code",
   "execution_count": 89,
   "metadata": {},
   "outputs": [],
   "source": [
    "df = df.drop(columns=['emotion','region', 'race'])"
   ]
  },
  {
   "cell_type": "code",
   "execution_count": 90,
   "metadata": {},
   "outputs": [
    {
     "data": {
      "text/html": [
       "<div>\n",
       "<style scoped>\n",
       "    .dataframe tbody tr th:only-of-type {\n",
       "        vertical-align: middle;\n",
       "    }\n",
       "\n",
       "    .dataframe tbody tr th {\n",
       "        vertical-align: top;\n",
       "    }\n",
       "\n",
       "    .dataframe thead th {\n",
       "        text-align: right;\n",
       "    }\n",
       "</style>\n",
       "<table border=\"1\" class=\"dataframe\">\n",
       "  <thead>\n",
       "    <tr style=\"text-align: right;\">\n",
       "      <th></th>\n",
       "      <th>dominant_emotion</th>\n",
       "      <th>age</th>\n",
       "      <th>gender</th>\n",
       "      <th>dominant_race</th>\n",
       "      <th>angry</th>\n",
       "      <th>disgust</th>\n",
       "      <th>fear</th>\n",
       "      <th>happy</th>\n",
       "      <th>sad</th>\n",
       "      <th>surprise</th>\n",
       "      <th>neutral</th>\n",
       "    </tr>\n",
       "  </thead>\n",
       "  <tbody>\n",
       "    <tr>\n",
       "      <th>0</th>\n",
       "      <td>angry</td>\n",
       "      <td>32</td>\n",
       "      <td>Man</td>\n",
       "      <td>white</td>\n",
       "      <td>92.755395</td>\n",
       "      <td>0.001743</td>\n",
       "      <td>1.530258</td>\n",
       "      <td>0.000033</td>\n",
       "      <td>5.704149</td>\n",
       "      <td>0.000004</td>\n",
       "      <td>0.00842</td>\n",
       "    </tr>\n",
       "  </tbody>\n",
       "</table>\n",
       "</div>"
      ],
      "text/plain": [
       "  dominant_emotion  age gender dominant_race      angry   disgust      fear  \\\n",
       "0            angry   32    Man         white  92.755395  0.001743  1.530258   \n",
       "\n",
       "      happy       sad  surprise  neutral  \n",
       "0  0.000033  5.704149  0.000004  0.00842  "
      ]
     },
     "execution_count": 90,
     "metadata": {},
     "output_type": "execute_result"
    }
   ],
   "source": [
    "df"
   ]
  },
  {
   "cell_type": "code",
   "execution_count": 118,
   "metadata": {},
   "outputs": [
    {
     "name": "stdout",
     "output_type": "stream",
     "text": [
      "5VJQr2EMdzXZFjvInyp4AC\n"
     ]
    }
   ],
   "source": []
  },
  {
   "cell_type": "markdown",
   "metadata": {},
   "source": [
    "## Funções finais  "
   ]
  },
  {
   "cell_type": "code",
   "execution_count": 3,
   "metadata": {},
   "outputs": [],
   "source": [
    "import cv2\n",
    "import numpy as np\n",
    "import os\n",
    "from deepface import DeepFace\n",
    "import pandas as pd\n",
    "from asyncio.windows_events import NULL\n",
    "from genericpath import exists\n",
    "from pandas import DataFrame\n",
    "\n",
    "\n",
    "def get_face_param(img_param):\n",
    "    df = pd.DataFrame(columns=list(img_param.keys()), data=[list(img_param.values())])\n",
    "    for emotion in img_param['emotion']:\n",
    "        df[emotion] = img_param['emotion'][emotion]\n",
    "    df = df.drop(columns=['emotion','region', 'race'])\n",
    "    return df\n",
    "\n",
    "def get_face(image_path):\n",
    "    fname = image_path\n",
    "\n",
    "    try:\n",
    "        predictions = DeepFace.analyze(fname, detector_backend='mtcnn')\n",
    "    except:\n",
    "        try:\n",
    "            predictions = DeepFace.analyze(fname, detector_backend='opencv')\n",
    "        except:\n",
    "            print(\"Erro na leitura da imagem!\")\n",
    "            return 0\n",
    "    return predictions\n",
    "\n",
    "def get_data_from_db(db_path):\n",
    "\n",
    "    df = DataFrame()\n",
    "\n",
    "    if not os.path.exists(db_path) :\n",
    "        print(\"Pasta não existe\")\n",
    "        return 0\n",
    "    for MOW in os.listdir(db_path):\n",
    "        MOW_p = os.path.join(db_path, MOW)\n",
    "\n",
    "        for people in os.listdir(MOW_p):\n",
    "            people_p = os.path.join(MOW_p, people)\n",
    "\n",
    "            for images in os.listdir(people_p):\n",
    "                images_p = os.path.join(people_p, images)\n",
    "                print(images_p)\n",
    "                try:\n",
    "\n",
    "                    pred = get_face(images_p)\n",
    "                    if pred != 0:\n",
    "                        new_data = get_face_param(pred)\n",
    "                        \n",
    "                    \n",
    "                    if df.empty:\n",
    "                        df = new_data\n",
    "                    else:\n",
    "                        df = df.append(new_data)\n",
    "                except: \n",
    "                    print(\"Erro na inserção do dado!\")\n",
    "              \n",
    "    return df\n"
   ]
  },
  {
   "cell_type": "code",
   "execution_count": 4,
   "metadata": {},
   "outputs": [
    {
     "name": "stdout",
     "output_type": "stream",
     "text": [
      "img_database_r\\Homem\\Pessoa 04\\Bravo_r.png\n"
     ]
    },
    {
     "name": "stderr",
     "output_type": "stream",
     "text": [
      "Action: race: 100%|██████████| 4/4 [00:01<00:00,  2.07it/s]   \n"
     ]
    },
    {
     "name": "stdout",
     "output_type": "stream",
     "text": [
      "img_database_r\\Homem\\Pessoa 04\\Feliz_r.png\n"
     ]
    },
    {
     "name": "stderr",
     "output_type": "stream",
     "text": [
      "Action: race: 100%|██████████| 4/4 [00:01<00:00,  3.75it/s]   \n"
     ]
    },
    {
     "name": "stdout",
     "output_type": "stream",
     "text": [
      "img_database_r\\Homem\\Pessoa 04\\Neutro_r.png\n"
     ]
    },
    {
     "name": "stderr",
     "output_type": "stream",
     "text": [
      "Action: race: 100%|██████████| 4/4 [00:01<00:00,  3.79it/s]   \n"
     ]
    },
    {
     "name": "stdout",
     "output_type": "stream",
     "text": [
      "img_database_r\\Homem\\Pessoa 04\\Triste_r.png\n"
     ]
    },
    {
     "name": "stderr",
     "output_type": "stream",
     "text": [
      "Action: race: 100%|██████████| 4/4 [00:01<00:00,  3.81it/s]   \n"
     ]
    },
    {
     "name": "stdout",
     "output_type": "stream",
     "text": [
      "img_database_r\\Homem\\Pessoa 06\\Bravo_r.png\n"
     ]
    },
    {
     "name": "stderr",
     "output_type": "stream",
     "text": [
      "Action: race: 100%|██████████| 4/4 [00:01<00:00,  3.69it/s]   \n"
     ]
    },
    {
     "name": "stdout",
     "output_type": "stream",
     "text": [
      "img_database_r\\Homem\\Pessoa 06\\Feliz_r.png\n"
     ]
    },
    {
     "name": "stderr",
     "output_type": "stream",
     "text": [
      "Action: race: 100%|██████████| 4/4 [00:01<00:00,  3.79it/s]   \n"
     ]
    },
    {
     "name": "stdout",
     "output_type": "stream",
     "text": [
      "img_database_r\\Homem\\Pessoa 06\\Neutro_r.png\n"
     ]
    },
    {
     "name": "stderr",
     "output_type": "stream",
     "text": [
      "Action: race: 100%|██████████| 4/4 [00:01<00:00,  3.60it/s]   \n"
     ]
    },
    {
     "name": "stdout",
     "output_type": "stream",
     "text": [
      "img_database_r\\Homem\\Pessoa 06\\Triste_r.png\n"
     ]
    },
    {
     "name": "stderr",
     "output_type": "stream",
     "text": [
      "Action: race: 100%|██████████| 4/4 [00:01<00:00,  3.83it/s]   \n"
     ]
    },
    {
     "name": "stdout",
     "output_type": "stream",
     "text": [
      "img_database_r\\Homem\\Pessoa 09\\Bravo_r.png\n"
     ]
    },
    {
     "name": "stderr",
     "output_type": "stream",
     "text": [
      "Action: race: 100%|██████████| 4/4 [00:01<00:00,  3.78it/s]   \n"
     ]
    },
    {
     "name": "stdout",
     "output_type": "stream",
     "text": [
      "img_database_r\\Homem\\Pessoa 09\\Feliz_r.png\n"
     ]
    },
    {
     "name": "stderr",
     "output_type": "stream",
     "text": [
      "Action: race: 100%|██████████| 4/4 [00:01<00:00,  3.72it/s]   \n"
     ]
    },
    {
     "name": "stdout",
     "output_type": "stream",
     "text": [
      "img_database_r\\Homem\\Pessoa 09\\Neutro_r.png\n"
     ]
    },
    {
     "name": "stderr",
     "output_type": "stream",
     "text": [
      "Action: race: 100%|██████████| 4/4 [00:01<00:00,  3.70it/s]   \n"
     ]
    },
    {
     "name": "stdout",
     "output_type": "stream",
     "text": [
      "img_database_r\\Homem\\Pessoa 09\\Triste_r.png\n"
     ]
    },
    {
     "name": "stderr",
     "output_type": "stream",
     "text": [
      "Action: race: 100%|██████████| 4/4 [00:01<00:00,  3.80it/s]   \n"
     ]
    },
    {
     "name": "stdout",
     "output_type": "stream",
     "text": [
      "img_database_r\\Homem\\Pessoa 11\\Bravo_r.png\n"
     ]
    },
    {
     "name": "stderr",
     "output_type": "stream",
     "text": [
      "Action: race: 100%|██████████| 4/4 [00:01<00:00,  3.80it/s]   \n"
     ]
    },
    {
     "name": "stdout",
     "output_type": "stream",
     "text": [
      "img_database_r\\Homem\\Pessoa 11\\Feliz_r.png\n"
     ]
    },
    {
     "name": "stderr",
     "output_type": "stream",
     "text": [
      "Action: race: 100%|██████████| 4/4 [00:01<00:00,  3.73it/s]   \n"
     ]
    },
    {
     "name": "stdout",
     "output_type": "stream",
     "text": [
      "img_database_r\\Homem\\Pessoa 11\\Neutro_r.png\n"
     ]
    },
    {
     "name": "stderr",
     "output_type": "stream",
     "text": [
      "Action: race: 100%|██████████| 4/4 [00:01<00:00,  3.77it/s]   \n"
     ]
    },
    {
     "name": "stdout",
     "output_type": "stream",
     "text": [
      "img_database_r\\Homem\\Pessoa 11\\Triste_r.png\n"
     ]
    },
    {
     "name": "stderr",
     "output_type": "stream",
     "text": [
      "Action: race: 100%|██████████| 4/4 [00:01<00:00,  3.82it/s]   \n"
     ]
    },
    {
     "name": "stdout",
     "output_type": "stream",
     "text": [
      "img_database_r\\Homem\\Pessoa 12\\Bravo_r.png\n"
     ]
    },
    {
     "name": "stderr",
     "output_type": "stream",
     "text": [
      "Action: race: 100%|██████████| 4/4 [00:01<00:00,  3.83it/s]   \n"
     ]
    },
    {
     "name": "stdout",
     "output_type": "stream",
     "text": [
      "img_database_r\\Homem\\Pessoa 12\\Feliz_r.png\n"
     ]
    },
    {
     "name": "stderr",
     "output_type": "stream",
     "text": [
      "Action: race: 100%|██████████| 4/4 [00:01<00:00,  3.81it/s]   \n"
     ]
    },
    {
     "name": "stdout",
     "output_type": "stream",
     "text": [
      "img_database_r\\Homem\\Pessoa 12\\Neutro_r.png\n"
     ]
    },
    {
     "name": "stderr",
     "output_type": "stream",
     "text": [
      "Action: race: 100%|██████████| 4/4 [00:01<00:00,  3.89it/s]   \n"
     ]
    },
    {
     "name": "stdout",
     "output_type": "stream",
     "text": [
      "img_database_r\\Homem\\Pessoa 12\\Triste_r.png\n"
     ]
    },
    {
     "name": "stderr",
     "output_type": "stream",
     "text": [
      "Action: emotion:   0%|          | 0/4 [00:00<?, ?it/s]\n",
      "Action: emotion:   0%|          | 0/4 [00:00<?, ?it/s]\n"
     ]
    },
    {
     "name": "stdout",
     "output_type": "stream",
     "text": [
      "Erro na leitura da imagem!\n",
      "img_database_r\\Homem\\Pessoa 14\\Bravo_r.png\n"
     ]
    },
    {
     "name": "stderr",
     "output_type": "stream",
     "text": [
      "Action: race: 100%|██████████| 4/4 [00:01<00:00,  3.77it/s]   \n"
     ]
    },
    {
     "name": "stdout",
     "output_type": "stream",
     "text": [
      "img_database_r\\Homem\\Pessoa 14\\Feliz_r.png\n"
     ]
    },
    {
     "name": "stderr",
     "output_type": "stream",
     "text": [
      "Action: race: 100%|██████████| 4/4 [00:01<00:00,  3.83it/s]   \n"
     ]
    },
    {
     "name": "stdout",
     "output_type": "stream",
     "text": [
      "img_database_r\\Homem\\Pessoa 14\\Neutro_r.png\n"
     ]
    },
    {
     "name": "stderr",
     "output_type": "stream",
     "text": [
      "Action: race: 100%|██████████| 4/4 [00:01<00:00,  3.76it/s]   \n"
     ]
    },
    {
     "name": "stdout",
     "output_type": "stream",
     "text": [
      "img_database_r\\Homem\\Pessoa 14\\Triste_r.png\n"
     ]
    },
    {
     "name": "stderr",
     "output_type": "stream",
     "text": [
      "Action: race: 100%|██████████| 4/4 [00:01<00:00,  3.79it/s]   \n"
     ]
    },
    {
     "name": "stdout",
     "output_type": "stream",
     "text": [
      "img_database_r\\Homem\\Pessoa 17\\Bravo_r.png\n"
     ]
    },
    {
     "name": "stderr",
     "output_type": "stream",
     "text": [
      "Action: race: 100%|██████████| 4/4 [00:01<00:00,  3.77it/s]   \n"
     ]
    },
    {
     "name": "stdout",
     "output_type": "stream",
     "text": [
      "img_database_r\\Homem\\Pessoa 17\\Feliz_r.png\n"
     ]
    },
    {
     "name": "stderr",
     "output_type": "stream",
     "text": [
      "Action: race: 100%|██████████| 4/4 [00:01<00:00,  3.78it/s]   \n"
     ]
    },
    {
     "name": "stdout",
     "output_type": "stream",
     "text": [
      "img_database_r\\Homem\\Pessoa 17\\Neutro_r.png\n"
     ]
    },
    {
     "name": "stderr",
     "output_type": "stream",
     "text": [
      "Action: race: 100%|██████████| 4/4 [00:01<00:00,  3.78it/s]   \n"
     ]
    },
    {
     "name": "stdout",
     "output_type": "stream",
     "text": [
      "img_database_r\\Homem\\Pessoa 17\\Triste_r.png\n"
     ]
    },
    {
     "name": "stderr",
     "output_type": "stream",
     "text": [
      "Action: race: 100%|██████████| 4/4 [00:01<00:00,  3.37it/s]   \n"
     ]
    },
    {
     "name": "stdout",
     "output_type": "stream",
     "text": [
      "img_database_r\\Mulher\\Pessoa 01\\Bravo_r.png\n"
     ]
    },
    {
     "name": "stderr",
     "output_type": "stream",
     "text": [
      "Action: race: 100%|██████████| 4/4 [00:01<00:00,  3.76it/s]   \n"
     ]
    },
    {
     "name": "stdout",
     "output_type": "stream",
     "text": [
      "img_database_r\\Mulher\\Pessoa 01\\Feliz_r.png\n"
     ]
    },
    {
     "name": "stderr",
     "output_type": "stream",
     "text": [
      "Action: race: 100%|██████████| 4/4 [00:01<00:00,  3.72it/s]   \n"
     ]
    },
    {
     "name": "stdout",
     "output_type": "stream",
     "text": [
      "img_database_r\\Mulher\\Pessoa 01\\Neutro_r.png\n"
     ]
    },
    {
     "name": "stderr",
     "output_type": "stream",
     "text": [
      "Action: race: 100%|██████████| 4/4 [00:01<00:00,  3.78it/s]   \n"
     ]
    },
    {
     "name": "stdout",
     "output_type": "stream",
     "text": [
      "img_database_r\\Mulher\\Pessoa 01\\Triste_r.png\n"
     ]
    },
    {
     "name": "stderr",
     "output_type": "stream",
     "text": [
      "Action: race: 100%|██████████| 4/4 [00:01<00:00,  3.70it/s]   \n"
     ]
    },
    {
     "name": "stdout",
     "output_type": "stream",
     "text": [
      "img_database_r\\Mulher\\Pessoa 02\\Bravo_r.png\n"
     ]
    },
    {
     "name": "stderr",
     "output_type": "stream",
     "text": [
      "Action: race: 100%|██████████| 4/4 [00:01<00:00,  3.75it/s]   \n"
     ]
    },
    {
     "name": "stdout",
     "output_type": "stream",
     "text": [
      "img_database_r\\Mulher\\Pessoa 02\\Feliz_r.png\n"
     ]
    },
    {
     "name": "stderr",
     "output_type": "stream",
     "text": [
      "Action: race: 100%|██████████| 4/4 [00:01<00:00,  3.73it/s]   \n"
     ]
    },
    {
     "name": "stdout",
     "output_type": "stream",
     "text": [
      "img_database_r\\Mulher\\Pessoa 02\\Neutro_r.png\n"
     ]
    },
    {
     "name": "stderr",
     "output_type": "stream",
     "text": [
      "Action: race: 100%|██████████| 4/4 [00:01<00:00,  3.76it/s]   \n"
     ]
    },
    {
     "name": "stdout",
     "output_type": "stream",
     "text": [
      "img_database_r\\Mulher\\Pessoa 02\\Triste_r.png\n"
     ]
    },
    {
     "name": "stderr",
     "output_type": "stream",
     "text": [
      "Action: race: 100%|██████████| 4/4 [00:01<00:00,  3.81it/s]   \n"
     ]
    },
    {
     "name": "stdout",
     "output_type": "stream",
     "text": [
      "img_database_r\\Mulher\\Pessoa 03\\Bravo_r.png\n"
     ]
    },
    {
     "name": "stderr",
     "output_type": "stream",
     "text": [
      "Action: race: 100%|██████████| 4/4 [00:01<00:00,  3.74it/s]   \n"
     ]
    },
    {
     "name": "stdout",
     "output_type": "stream",
     "text": [
      "img_database_r\\Mulher\\Pessoa 03\\Feliz_r.png\n"
     ]
    },
    {
     "name": "stderr",
     "output_type": "stream",
     "text": [
      "Action: race: 100%|██████████| 4/4 [00:01<00:00,  3.74it/s]   \n"
     ]
    },
    {
     "name": "stdout",
     "output_type": "stream",
     "text": [
      "img_database_r\\Mulher\\Pessoa 03\\Neutro_r.png\n"
     ]
    },
    {
     "name": "stderr",
     "output_type": "stream",
     "text": [
      "Action: race: 100%|██████████| 4/4 [00:01<00:00,  3.77it/s]   \n"
     ]
    },
    {
     "name": "stdout",
     "output_type": "stream",
     "text": [
      "img_database_r\\Mulher\\Pessoa 03\\Triste_r.png\n"
     ]
    },
    {
     "name": "stderr",
     "output_type": "stream",
     "text": [
      "Action: race: 100%|██████████| 4/4 [00:01<00:00,  3.78it/s]   \n"
     ]
    },
    {
     "name": "stdout",
     "output_type": "stream",
     "text": [
      "img_database_r\\Mulher\\Pessoa 05\\Bravo_r.png\n"
     ]
    },
    {
     "name": "stderr",
     "output_type": "stream",
     "text": [
      "Action: race: 100%|██████████| 4/4 [00:01<00:00,  3.76it/s]   \n"
     ]
    },
    {
     "name": "stdout",
     "output_type": "stream",
     "text": [
      "img_database_r\\Mulher\\Pessoa 05\\Feliz_r.png\n"
     ]
    },
    {
     "name": "stderr",
     "output_type": "stream",
     "text": [
      "Action: race: 100%|██████████| 4/4 [00:01<00:00,  3.71it/s]   \n"
     ]
    },
    {
     "name": "stdout",
     "output_type": "stream",
     "text": [
      "img_database_r\\Mulher\\Pessoa 05\\Neutro_r.png\n"
     ]
    },
    {
     "name": "stderr",
     "output_type": "stream",
     "text": [
      "Action: race: 100%|██████████| 4/4 [00:01<00:00,  3.75it/s]   \n"
     ]
    },
    {
     "name": "stdout",
     "output_type": "stream",
     "text": [
      "img_database_r\\Mulher\\Pessoa 05\\Triste_r.png\n"
     ]
    },
    {
     "name": "stderr",
     "output_type": "stream",
     "text": [
      "Action: race: 100%|██████████| 4/4 [00:01<00:00,  3.78it/s]   \n"
     ]
    },
    {
     "name": "stdout",
     "output_type": "stream",
     "text": [
      "img_database_r\\Mulher\\Pessoa 07\\Bravo_r.png\n"
     ]
    },
    {
     "name": "stderr",
     "output_type": "stream",
     "text": [
      "Action: race: 100%|██████████| 4/4 [00:01<00:00,  3.78it/s]   \n"
     ]
    },
    {
     "name": "stdout",
     "output_type": "stream",
     "text": [
      "img_database_r\\Mulher\\Pessoa 07\\Feliz_r.png\n"
     ]
    },
    {
     "name": "stderr",
     "output_type": "stream",
     "text": [
      "Action: race: 100%|██████████| 4/4 [00:01<00:00,  3.77it/s]   \n"
     ]
    },
    {
     "name": "stdout",
     "output_type": "stream",
     "text": [
      "img_database_r\\Mulher\\Pessoa 07\\Neutro_r.png\n"
     ]
    },
    {
     "name": "stderr",
     "output_type": "stream",
     "text": [
      "Action: race: 100%|██████████| 4/4 [00:01<00:00,  3.85it/s]   \n"
     ]
    },
    {
     "name": "stdout",
     "output_type": "stream",
     "text": [
      "img_database_r\\Mulher\\Pessoa 07\\Triste_r.png\n"
     ]
    },
    {
     "name": "stderr",
     "output_type": "stream",
     "text": [
      "Action: race: 100%|██████████| 4/4 [00:01<00:00,  3.79it/s]   \n"
     ]
    },
    {
     "name": "stdout",
     "output_type": "stream",
     "text": [
      "img_database_r\\Mulher\\Pessoa 08\\Bravo_r.png\n"
     ]
    },
    {
     "name": "stderr",
     "output_type": "stream",
     "text": [
      "Action: race: 100%|██████████| 4/4 [00:01<00:00,  3.78it/s]   \n"
     ]
    },
    {
     "name": "stdout",
     "output_type": "stream",
     "text": [
      "img_database_r\\Mulher\\Pessoa 08\\Feliz_r.png\n"
     ]
    },
    {
     "name": "stderr",
     "output_type": "stream",
     "text": [
      "Action: race: 100%|██████████| 4/4 [00:01<00:00,  3.77it/s]   \n"
     ]
    },
    {
     "name": "stdout",
     "output_type": "stream",
     "text": [
      "img_database_r\\Mulher\\Pessoa 08\\Neutro_r.png\n"
     ]
    },
    {
     "name": "stderr",
     "output_type": "stream",
     "text": [
      "Action: race: 100%|██████████| 4/4 [00:01<00:00,  3.79it/s]   \n"
     ]
    },
    {
     "name": "stdout",
     "output_type": "stream",
     "text": [
      "img_database_r\\Mulher\\Pessoa 08\\Triste_r.png\n"
     ]
    },
    {
     "name": "stderr",
     "output_type": "stream",
     "text": [
      "Action: race: 100%|██████████| 4/4 [00:01<00:00,  3.77it/s]   \n"
     ]
    },
    {
     "name": "stdout",
     "output_type": "stream",
     "text": [
      "img_database_r\\Mulher\\Pessoa 10\\Bravo_r.png\n"
     ]
    },
    {
     "name": "stderr",
     "output_type": "stream",
     "text": [
      "Action: race: 100%|██████████| 4/4 [00:01<00:00,  3.81it/s]   \n"
     ]
    },
    {
     "name": "stdout",
     "output_type": "stream",
     "text": [
      "img_database_r\\Mulher\\Pessoa 10\\Feliz_r.png\n"
     ]
    },
    {
     "name": "stderr",
     "output_type": "stream",
     "text": [
      "Action: race: 100%|██████████| 4/4 [00:01<00:00,  3.79it/s]   \n"
     ]
    },
    {
     "name": "stdout",
     "output_type": "stream",
     "text": [
      "img_database_r\\Mulher\\Pessoa 10\\Neutro_r.png\n"
     ]
    },
    {
     "name": "stderr",
     "output_type": "stream",
     "text": [
      "Action: race: 100%|██████████| 4/4 [00:01<00:00,  3.80it/s]   \n"
     ]
    },
    {
     "name": "stdout",
     "output_type": "stream",
     "text": [
      "img_database_r\\Mulher\\Pessoa 10\\Triste_r.png\n"
     ]
    },
    {
     "name": "stderr",
     "output_type": "stream",
     "text": [
      "Action: race: 100%|██████████| 4/4 [00:01<00:00,  3.84it/s]   \n"
     ]
    },
    {
     "name": "stdout",
     "output_type": "stream",
     "text": [
      "img_database_r\\Mulher\\Pessoa 13\\Bravo_r.png\n"
     ]
    },
    {
     "name": "stderr",
     "output_type": "stream",
     "text": [
      "Action: race: 100%|██████████| 4/4 [00:01<00:00,  3.40it/s]   \n"
     ]
    },
    {
     "name": "stdout",
     "output_type": "stream",
     "text": [
      "img_database_r\\Mulher\\Pessoa 13\\Feliz_r.png\n"
     ]
    },
    {
     "name": "stderr",
     "output_type": "stream",
     "text": [
      "Action: race: 100%|██████████| 4/4 [00:01<00:00,  3.74it/s]   \n"
     ]
    },
    {
     "name": "stdout",
     "output_type": "stream",
     "text": [
      "img_database_r\\Mulher\\Pessoa 13\\Neutro_r.png\n"
     ]
    },
    {
     "name": "stderr",
     "output_type": "stream",
     "text": [
      "Action: race: 100%|██████████| 4/4 [00:01<00:00,  3.70it/s]   \n"
     ]
    },
    {
     "name": "stdout",
     "output_type": "stream",
     "text": [
      "img_database_r\\Mulher\\Pessoa 13\\Triste_r.png\n"
     ]
    },
    {
     "name": "stderr",
     "output_type": "stream",
     "text": [
      "Action: race: 100%|██████████| 4/4 [00:01<00:00,  3.76it/s]   \n"
     ]
    },
    {
     "name": "stdout",
     "output_type": "stream",
     "text": [
      "img_database_r\\Mulher\\Pessoa 15\\Bravo_r.png\n"
     ]
    },
    {
     "name": "stderr",
     "output_type": "stream",
     "text": [
      "Action: race: 100%|██████████| 4/4 [00:01<00:00,  3.77it/s]   \n"
     ]
    },
    {
     "name": "stdout",
     "output_type": "stream",
     "text": [
      "img_database_r\\Mulher\\Pessoa 15\\Feliz_r.png\n"
     ]
    },
    {
     "name": "stderr",
     "output_type": "stream",
     "text": [
      "Action: race: 100%|██████████| 4/4 [00:01<00:00,  3.83it/s]   \n"
     ]
    },
    {
     "name": "stdout",
     "output_type": "stream",
     "text": [
      "img_database_r\\Mulher\\Pessoa 15\\Neutro_r.png\n"
     ]
    },
    {
     "name": "stderr",
     "output_type": "stream",
     "text": [
      "Action: race: 100%|██████████| 4/4 [00:01<00:00,  3.70it/s]   \n"
     ]
    },
    {
     "name": "stdout",
     "output_type": "stream",
     "text": [
      "img_database_r\\Mulher\\Pessoa 15\\Triste_r.png\n"
     ]
    },
    {
     "name": "stderr",
     "output_type": "stream",
     "text": [
      "Action: race: 100%|██████████| 4/4 [00:01<00:00,  3.80it/s]   \n"
     ]
    },
    {
     "name": "stdout",
     "output_type": "stream",
     "text": [
      "img_database_r\\Mulher\\Pessoa 16\\Bravo_r.png\n"
     ]
    },
    {
     "name": "stderr",
     "output_type": "stream",
     "text": [
      "Action: race: 100%|██████████| 4/4 [00:01<00:00,  3.71it/s]   \n"
     ]
    },
    {
     "name": "stdout",
     "output_type": "stream",
     "text": [
      "img_database_r\\Mulher\\Pessoa 16\\Feliz_r.png\n"
     ]
    },
    {
     "name": "stderr",
     "output_type": "stream",
     "text": [
      "Action: race: 100%|██████████| 4/4 [00:01<00:00,  3.71it/s]   \n"
     ]
    },
    {
     "name": "stdout",
     "output_type": "stream",
     "text": [
      "img_database_r\\Mulher\\Pessoa 16\\Neutro_r.png\n"
     ]
    },
    {
     "name": "stderr",
     "output_type": "stream",
     "text": [
      "Action: race: 100%|██████████| 4/4 [00:01<00:00,  3.75it/s]   \n"
     ]
    },
    {
     "name": "stdout",
     "output_type": "stream",
     "text": [
      "img_database_r\\Mulher\\Pessoa 16\\Triste_r.png\n"
     ]
    },
    {
     "name": "stderr",
     "output_type": "stream",
     "text": [
      "Action: race: 100%|██████████| 4/4 [00:01<00:00,  3.72it/s]   \n"
     ]
    },
    {
     "data": {
      "text/html": [
       "<div>\n",
       "<style scoped>\n",
       "    .dataframe tbody tr th:only-of-type {\n",
       "        vertical-align: middle;\n",
       "    }\n",
       "\n",
       "    .dataframe tbody tr th {\n",
       "        vertical-align: top;\n",
       "    }\n",
       "\n",
       "    .dataframe thead th {\n",
       "        text-align: right;\n",
       "    }\n",
       "</style>\n",
       "<table border=\"1\" class=\"dataframe\">\n",
       "  <thead>\n",
       "    <tr style=\"text-align: right;\">\n",
       "      <th></th>\n",
       "      <th>dominant_emotion</th>\n",
       "      <th>age</th>\n",
       "      <th>gender</th>\n",
       "      <th>dominant_race</th>\n",
       "      <th>angry</th>\n",
       "      <th>disgust</th>\n",
       "      <th>fear</th>\n",
       "      <th>happy</th>\n",
       "      <th>sad</th>\n",
       "      <th>surprise</th>\n",
       "      <th>neutral</th>\n",
       "    </tr>\n",
       "  </thead>\n",
       "  <tbody>\n",
       "    <tr>\n",
       "      <th>0</th>\n",
       "      <td>angry</td>\n",
       "      <td>32</td>\n",
       "      <td>Man</td>\n",
       "      <td>white</td>\n",
       "      <td>9.275540e+01</td>\n",
       "      <td>1.742503e-03</td>\n",
       "      <td>1.530258</td>\n",
       "      <td>0.000033</td>\n",
       "      <td>5.704149e+00</td>\n",
       "      <td>0.000004</td>\n",
       "      <td>0.008420</td>\n",
       "    </tr>\n",
       "    <tr>\n",
       "      <th>0</th>\n",
       "      <td>happy</td>\n",
       "      <td>27</td>\n",
       "      <td>Man</td>\n",
       "      <td>white</td>\n",
       "      <td>2.517111e-02</td>\n",
       "      <td>1.466431e-04</td>\n",
       "      <td>0.010573</td>\n",
       "      <td>96.789300</td>\n",
       "      <td>1.240855e+00</td>\n",
       "      <td>0.000150</td>\n",
       "      <td>1.933810</td>\n",
       "    </tr>\n",
       "    <tr>\n",
       "      <th>0</th>\n",
       "      <td>sad</td>\n",
       "      <td>29</td>\n",
       "      <td>Man</td>\n",
       "      <td>white</td>\n",
       "      <td>4.582345e+01</td>\n",
       "      <td>4.112436e-03</td>\n",
       "      <td>2.985845</td>\n",
       "      <td>0.000594</td>\n",
       "      <td>4.602346e+01</td>\n",
       "      <td>0.003502</td>\n",
       "      <td>5.159035</td>\n",
       "    </tr>\n",
       "    <tr>\n",
       "      <th>0</th>\n",
       "      <td>angry</td>\n",
       "      <td>30</td>\n",
       "      <td>Man</td>\n",
       "      <td>white</td>\n",
       "      <td>6.615281e+01</td>\n",
       "      <td>6.050717e-02</td>\n",
       "      <td>8.196913</td>\n",
       "      <td>0.107843</td>\n",
       "      <td>1.689631e+01</td>\n",
       "      <td>2.617431</td>\n",
       "      <td>5.968189</td>\n",
       "    </tr>\n",
       "    <tr>\n",
       "      <th>0</th>\n",
       "      <td>surprise</td>\n",
       "      <td>34</td>\n",
       "      <td>Man</td>\n",
       "      <td>asian</td>\n",
       "      <td>1.954687e+00</td>\n",
       "      <td>1.198679e-03</td>\n",
       "      <td>1.221227</td>\n",
       "      <td>0.013479</td>\n",
       "      <td>2.460685e-05</td>\n",
       "      <td>96.809334</td>\n",
       "      <td>0.000043</td>\n",
       "    </tr>\n",
       "    <tr>\n",
       "      <th>...</th>\n",
       "      <td>...</td>\n",
       "      <td>...</td>\n",
       "      <td>...</td>\n",
       "      <td>...</td>\n",
       "      <td>...</td>\n",
       "      <td>...</td>\n",
       "      <td>...</td>\n",
       "      <td>...</td>\n",
       "      <td>...</td>\n",
       "      <td>...</td>\n",
       "      <td>...</td>\n",
       "    </tr>\n",
       "    <tr>\n",
       "      <th>0</th>\n",
       "      <td>sad</td>\n",
       "      <td>25</td>\n",
       "      <td>Man</td>\n",
       "      <td>middle eastern</td>\n",
       "      <td>1.668867e+01</td>\n",
       "      <td>3.495670e+01</td>\n",
       "      <td>0.592683</td>\n",
       "      <td>0.060209</td>\n",
       "      <td>3.677459e+01</td>\n",
       "      <td>0.072076</td>\n",
       "      <td>10.855079</td>\n",
       "    </tr>\n",
       "    <tr>\n",
       "      <th>0</th>\n",
       "      <td>angry</td>\n",
       "      <td>39</td>\n",
       "      <td>Woman</td>\n",
       "      <td>asian</td>\n",
       "      <td>7.672794e+01</td>\n",
       "      <td>9.860461e-01</td>\n",
       "      <td>19.983914</td>\n",
       "      <td>0.043241</td>\n",
       "      <td>2.125430e+00</td>\n",
       "      <td>0.122813</td>\n",
       "      <td>0.010613</td>\n",
       "    </tr>\n",
       "    <tr>\n",
       "      <th>0</th>\n",
       "      <td>happy</td>\n",
       "      <td>34</td>\n",
       "      <td>Woman</td>\n",
       "      <td>asian</td>\n",
       "      <td>9.826318e-09</td>\n",
       "      <td>2.193164e-12</td>\n",
       "      <td>0.000025</td>\n",
       "      <td>99.999380</td>\n",
       "      <td>7.848440e-07</td>\n",
       "      <td>0.000004</td>\n",
       "      <td>0.000585</td>\n",
       "    </tr>\n",
       "    <tr>\n",
       "      <th>0</th>\n",
       "      <td>neutral</td>\n",
       "      <td>32</td>\n",
       "      <td>Woman</td>\n",
       "      <td>asian</td>\n",
       "      <td>1.173050e+01</td>\n",
       "      <td>1.013364e-02</td>\n",
       "      <td>2.802909</td>\n",
       "      <td>0.697646</td>\n",
       "      <td>9.399560e+00</td>\n",
       "      <td>0.003166</td>\n",
       "      <td>75.356087</td>\n",
       "    </tr>\n",
       "    <tr>\n",
       "      <th>0</th>\n",
       "      <td>happy</td>\n",
       "      <td>44</td>\n",
       "      <td>Woman</td>\n",
       "      <td>asian</td>\n",
       "      <td>4.125046e-02</td>\n",
       "      <td>7.159053e-03</td>\n",
       "      <td>0.010502</td>\n",
       "      <td>98.298818</td>\n",
       "      <td>9.862173e-02</td>\n",
       "      <td>0.000185</td>\n",
       "      <td>1.543457</td>\n",
       "    </tr>\n",
       "  </tbody>\n",
       "</table>\n",
       "<p>68 rows × 11 columns</p>\n",
       "</div>"
      ],
      "text/plain": [
       "   dominant_emotion  age gender   dominant_race         angry       disgust  \\\n",
       "0             angry   32    Man           white  9.275540e+01  1.742503e-03   \n",
       "0             happy   27    Man           white  2.517111e-02  1.466431e-04   \n",
       "0               sad   29    Man           white  4.582345e+01  4.112436e-03   \n",
       "0             angry   30    Man           white  6.615281e+01  6.050717e-02   \n",
       "0          surprise   34    Man           asian  1.954687e+00  1.198679e-03   \n",
       "..              ...  ...    ...             ...           ...           ...   \n",
       "0               sad   25    Man  middle eastern  1.668867e+01  3.495670e+01   \n",
       "0             angry   39  Woman           asian  7.672794e+01  9.860461e-01   \n",
       "0             happy   34  Woman           asian  9.826318e-09  2.193164e-12   \n",
       "0           neutral   32  Woman           asian  1.173050e+01  1.013364e-02   \n",
       "0             happy   44  Woman           asian  4.125046e-02  7.159053e-03   \n",
       "\n",
       "         fear      happy           sad   surprise    neutral  \n",
       "0    1.530258   0.000033  5.704149e+00   0.000004   0.008420  \n",
       "0    0.010573  96.789300  1.240855e+00   0.000150   1.933810  \n",
       "0    2.985845   0.000594  4.602346e+01   0.003502   5.159035  \n",
       "0    8.196913   0.107843  1.689631e+01   2.617431   5.968189  \n",
       "0    1.221227   0.013479  2.460685e-05  96.809334   0.000043  \n",
       "..        ...        ...           ...        ...        ...  \n",
       "0    0.592683   0.060209  3.677459e+01   0.072076  10.855079  \n",
       "0   19.983914   0.043241  2.125430e+00   0.122813   0.010613  \n",
       "0    0.000025  99.999380  7.848440e-07   0.000004   0.000585  \n",
       "0    2.802909   0.697646  9.399560e+00   0.003166  75.356087  \n",
       "0    0.010502  98.298818  9.862173e-02   0.000185   1.543457  \n",
       "\n",
       "[68 rows x 11 columns]"
      ]
     },
     "execution_count": 4,
     "metadata": {},
     "output_type": "execute_result"
    }
   ],
   "source": [
    "df = get_data_from_db('img_database_r')\n",
    "df"
   ]
  }
 ],
 "metadata": {
  "kernelspec": {
   "display_name": "Python 3.9.7 64-bit",
   "language": "python",
   "name": "python3"
  },
  "language_info": {
   "codemirror_mode": {
    "name": "ipython",
    "version": 3
   },
   "file_extension": ".py",
   "mimetype": "text/x-python",
   "name": "python",
   "nbconvert_exporter": "python",
   "pygments_lexer": "ipython3",
   "version": "3.9.7"
  },
  "orig_nbformat": 4,
  "vscode": {
   "interpreter": {
    "hash": "81794d4967e6c3204c66dcd87b604927b115b27c00565d3d43f05ba2f3a2cb0d"
   }
  }
 },
 "nbformat": 4,
 "nbformat_minor": 2
}
