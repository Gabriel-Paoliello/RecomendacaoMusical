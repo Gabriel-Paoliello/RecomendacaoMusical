{
 "cells": [
  {
   "cell_type": "markdown",
   "metadata": {},
   "source": [
    "## Funções finais  "
   ]
  },
  {
   "cell_type": "code",
   "execution_count": 5,
   "metadata": {},
   "outputs": [],
   "source": [
    "import cv2\n",
    "import numpy as np\n",
    "import os\n",
    "from deepface import DeepFace\n",
    "import pandas as pd\n",
    "from asyncio.windows_events import NULL\n",
    "from genericpath import exists\n",
    "from pandas import DataFrame\n",
    "\n",
    "\n",
    "def get_face_param(img_param):\n",
    "    df = pd.DataFrame(columns=list(img_param.keys()), data=[list(img_param.values())])\n",
    "    for emotion in img_param['emotion']:\n",
    "        df[emotion] = img_param['emotion'][emotion]\n",
    "    df = df.drop(columns=['emotion','region', 'race'])\n",
    "    return df\n",
    "\n",
    "def get_face(image_path):\n",
    "    fname = image_path\n",
    "\n",
    "    try:\n",
    "        predictions = DeepFace.analyze(fname, detector_backend='mtcnn')\n",
    "    except:\n",
    "        try:\n",
    "            predictions = DeepFace.analyze(fname, detector_backend='opencv')\n",
    "        except:\n",
    "            print(\"Erro na leitura da imagem!\")\n",
    "            return 0\n",
    "    return predictions\n",
    "\n",
    "def get_data_from_db(db_path):\n",
    "\n",
    "    count = -1\n",
    "\n",
    "    df = DataFrame()\n",
    "    df_mfeatures_original = pd.read_csv(\"musics_database/param_musics.csv\")\n",
    "    df_mfeatures = pd.DataFrame(columns=df_mfeatures_original.columns)\n",
    "\n",
    "    if not os.path.exists(db_path) :\n",
    "        print(\"Pasta não existe\")\n",
    "        return 0\n",
    "    for MOW in os.listdir(db_path):\n",
    "        MOW_p = os.path.join(db_path, MOW)\n",
    "\n",
    "        for people in os.listdir(MOW_p):\n",
    "            people_p = os.path.join(MOW_p, people)\n",
    "\n",
    "            for images in os.listdir(people_p):\n",
    "                images_p = os.path.join(people_p, images)\n",
    "                print(images_p)\n",
    "                try:\n",
    "                    count+=1\n",
    "                    pred = get_face(images_p)\n",
    "                    if pred != 0:\n",
    "                        new_data = get_face_param(pred)\n",
    "                        df_mfeatures = df_mfeatures.append(df_mfeatures_original.iloc[[count]], ignore_index=True)\n",
    "                    if df.empty:\n",
    "                        df = new_data\n",
    "                    else:\n",
    "                        df = df.append(new_data, ignore_index=True)\n",
    "                except: \n",
    "                    print(\"Erro na inserção do dado!\")\n",
    "                    \n",
    "    df = df.join(df_mfeatures)\n",
    "    return df"
   ]
  },
  {
   "cell_type": "code",
   "execution_count": 6,
   "metadata": {},
   "outputs": [
    {
     "name": "stdout",
     "output_type": "stream",
     "text": [
      "img_database_r\\Homem\\Pessoa 04\\Bravo_r.png\n"
     ]
    },
    {
     "name": "stderr",
     "output_type": "stream",
     "text": [
      "Action: race: 100%|██████████| 4/4 [00:01<00:00,  2.07it/s]   \n"
     ]
    },
    {
     "name": "stdout",
     "output_type": "stream",
     "text": [
      "img_database_r\\Homem\\Pessoa 04\\Feliz_r.png\n"
     ]
    },
    {
     "name": "stderr",
     "output_type": "stream",
     "text": [
      "Action: race: 100%|██████████| 4/4 [00:01<00:00,  3.64it/s]   \n"
     ]
    },
    {
     "name": "stdout",
     "output_type": "stream",
     "text": [
      "img_database_r\\Homem\\Pessoa 04\\Neutro_r.png\n"
     ]
    },
    {
     "name": "stderr",
     "output_type": "stream",
     "text": [
      "Action: race: 100%|██████████| 4/4 [00:01<00:00,  3.74it/s]   \n"
     ]
    },
    {
     "name": "stdout",
     "output_type": "stream",
     "text": [
      "img_database_r\\Homem\\Pessoa 04\\Triste_r.png\n"
     ]
    },
    {
     "name": "stderr",
     "output_type": "stream",
     "text": [
      "Action: race: 100%|██████████| 4/4 [00:01<00:00,  3.80it/s]   \n"
     ]
    },
    {
     "name": "stdout",
     "output_type": "stream",
     "text": [
      "img_database_r\\Homem\\Pessoa 06\\Bravo_r.png\n"
     ]
    },
    {
     "name": "stderr",
     "output_type": "stream",
     "text": [
      "Action: race: 100%|██████████| 4/4 [00:01<00:00,  3.67it/s]   \n"
     ]
    },
    {
     "name": "stdout",
     "output_type": "stream",
     "text": [
      "img_database_r\\Homem\\Pessoa 06\\Feliz_r.png\n"
     ]
    },
    {
     "name": "stderr",
     "output_type": "stream",
     "text": [
      "Action: race: 100%|██████████| 4/4 [00:01<00:00,  3.77it/s]   \n"
     ]
    },
    {
     "name": "stdout",
     "output_type": "stream",
     "text": [
      "img_database_r\\Homem\\Pessoa 06\\Neutro_r.png\n"
     ]
    },
    {
     "name": "stderr",
     "output_type": "stream",
     "text": [
      "Action: race: 100%|██████████| 4/4 [00:01<00:00,  3.60it/s]   \n"
     ]
    },
    {
     "name": "stdout",
     "output_type": "stream",
     "text": [
      "img_database_r\\Homem\\Pessoa 06\\Triste_r.png\n"
     ]
    },
    {
     "name": "stderr",
     "output_type": "stream",
     "text": [
      "Action: race: 100%|██████████| 4/4 [00:01<00:00,  3.72it/s]   \n"
     ]
    },
    {
     "name": "stdout",
     "output_type": "stream",
     "text": [
      "img_database_r\\Homem\\Pessoa 09\\Bravo_r.png\n"
     ]
    },
    {
     "name": "stderr",
     "output_type": "stream",
     "text": [
      "Action: race: 100%|██████████| 4/4 [00:01<00:00,  3.77it/s]   \n"
     ]
    },
    {
     "name": "stdout",
     "output_type": "stream",
     "text": [
      "img_database_r\\Homem\\Pessoa 09\\Feliz_r.png\n"
     ]
    },
    {
     "name": "stderr",
     "output_type": "stream",
     "text": [
      "Action: race: 100%|██████████| 4/4 [00:01<00:00,  3.37it/s]   \n"
     ]
    },
    {
     "name": "stdout",
     "output_type": "stream",
     "text": [
      "img_database_r\\Homem\\Pessoa 09\\Neutro_r.png\n"
     ]
    },
    {
     "name": "stderr",
     "output_type": "stream",
     "text": [
      "Action: race: 100%|██████████| 4/4 [00:01<00:00,  3.74it/s]   \n"
     ]
    },
    {
     "name": "stdout",
     "output_type": "stream",
     "text": [
      "img_database_r\\Homem\\Pessoa 09\\Triste_r.png\n"
     ]
    },
    {
     "name": "stderr",
     "output_type": "stream",
     "text": [
      "Action: race: 100%|██████████| 4/4 [00:01<00:00,  3.71it/s]   \n"
     ]
    },
    {
     "name": "stdout",
     "output_type": "stream",
     "text": [
      "img_database_r\\Homem\\Pessoa 11\\Bravo_r.png\n"
     ]
    },
    {
     "name": "stderr",
     "output_type": "stream",
     "text": [
      "Action: race: 100%|██████████| 4/4 [00:01<00:00,  3.75it/s]   \n"
     ]
    },
    {
     "name": "stdout",
     "output_type": "stream",
     "text": [
      "img_database_r\\Homem\\Pessoa 11\\Feliz_r.png\n"
     ]
    },
    {
     "name": "stderr",
     "output_type": "stream",
     "text": [
      "Action: race: 100%|██████████| 4/4 [00:01<00:00,  3.74it/s]   \n"
     ]
    },
    {
     "name": "stdout",
     "output_type": "stream",
     "text": [
      "img_database_r\\Homem\\Pessoa 11\\Neutro_r.png\n"
     ]
    },
    {
     "name": "stderr",
     "output_type": "stream",
     "text": [
      "Action: race: 100%|██████████| 4/4 [00:01<00:00,  3.78it/s]   \n"
     ]
    },
    {
     "name": "stdout",
     "output_type": "stream",
     "text": [
      "img_database_r\\Homem\\Pessoa 11\\Triste_r.png\n"
     ]
    },
    {
     "name": "stderr",
     "output_type": "stream",
     "text": [
      "Action: race: 100%|██████████| 4/4 [00:01<00:00,  3.75it/s]   \n"
     ]
    },
    {
     "name": "stdout",
     "output_type": "stream",
     "text": [
      "img_database_r\\Homem\\Pessoa 12\\Bravo_r.png\n"
     ]
    },
    {
     "name": "stderr",
     "output_type": "stream",
     "text": [
      "Action: race: 100%|██████████| 4/4 [00:01<00:00,  3.80it/s]   \n"
     ]
    },
    {
     "name": "stdout",
     "output_type": "stream",
     "text": [
      "img_database_r\\Homem\\Pessoa 12\\Feliz_r.png\n"
     ]
    },
    {
     "name": "stderr",
     "output_type": "stream",
     "text": [
      "Action: race: 100%|██████████| 4/4 [00:01<00:00,  3.79it/s]   \n"
     ]
    },
    {
     "name": "stdout",
     "output_type": "stream",
     "text": [
      "img_database_r\\Homem\\Pessoa 12\\Neutro_r.png\n"
     ]
    },
    {
     "name": "stderr",
     "output_type": "stream",
     "text": [
      "Action: race: 100%|██████████| 4/4 [00:01<00:00,  3.78it/s]   \n"
     ]
    },
    {
     "name": "stdout",
     "output_type": "stream",
     "text": [
      "img_database_r\\Homem\\Pessoa 12\\Triste_r.png\n"
     ]
    },
    {
     "name": "stderr",
     "output_type": "stream",
     "text": [
      "Action: emotion:   0%|          | 0/4 [00:00<?, ?it/s]\n",
      "Action: emotion:   0%|          | 0/4 [00:00<?, ?it/s]\n"
     ]
    },
    {
     "name": "stdout",
     "output_type": "stream",
     "text": [
      "Erro na leitura da imagem!\n",
      "img_database_r\\Homem\\Pessoa 14\\Bravo_r.png\n"
     ]
    },
    {
     "name": "stderr",
     "output_type": "stream",
     "text": [
      "Action: race: 100%|██████████| 4/4 [00:01<00:00,  3.75it/s]   \n"
     ]
    },
    {
     "name": "stdout",
     "output_type": "stream",
     "text": [
      "img_database_r\\Homem\\Pessoa 14\\Feliz_r.png\n"
     ]
    },
    {
     "name": "stderr",
     "output_type": "stream",
     "text": [
      "Action: race: 100%|██████████| 4/4 [00:01<00:00,  3.80it/s]   \n"
     ]
    },
    {
     "name": "stdout",
     "output_type": "stream",
     "text": [
      "img_database_r\\Homem\\Pessoa 14\\Neutro_r.png\n"
     ]
    },
    {
     "name": "stderr",
     "output_type": "stream",
     "text": [
      "Action: race: 100%|██████████| 4/4 [00:01<00:00,  3.73it/s]   \n"
     ]
    },
    {
     "name": "stdout",
     "output_type": "stream",
     "text": [
      "img_database_r\\Homem\\Pessoa 14\\Triste_r.png\n"
     ]
    },
    {
     "name": "stderr",
     "output_type": "stream",
     "text": [
      "Action: race: 100%|██████████| 4/4 [00:01<00:00,  3.78it/s]   \n"
     ]
    },
    {
     "name": "stdout",
     "output_type": "stream",
     "text": [
      "img_database_r\\Homem\\Pessoa 17\\Bravo_r.png\n"
     ]
    },
    {
     "name": "stderr",
     "output_type": "stream",
     "text": [
      "Action: race: 100%|██████████| 4/4 [00:01<00:00,  3.70it/s]   \n"
     ]
    },
    {
     "name": "stdout",
     "output_type": "stream",
     "text": [
      "img_database_r\\Homem\\Pessoa 17\\Feliz_r.png\n"
     ]
    },
    {
     "name": "stderr",
     "output_type": "stream",
     "text": [
      "Action: race: 100%|██████████| 4/4 [00:01<00:00,  3.76it/s]   \n"
     ]
    },
    {
     "name": "stdout",
     "output_type": "stream",
     "text": [
      "img_database_r\\Homem\\Pessoa 17\\Neutro_r.png\n"
     ]
    },
    {
     "name": "stderr",
     "output_type": "stream",
     "text": [
      "Action: race: 100%|██████████| 4/4 [00:01<00:00,  3.70it/s]   \n"
     ]
    },
    {
     "name": "stdout",
     "output_type": "stream",
     "text": [
      "img_database_r\\Homem\\Pessoa 17\\Triste_r.png\n"
     ]
    },
    {
     "name": "stderr",
     "output_type": "stream",
     "text": [
      "Action: race: 100%|██████████| 4/4 [00:01<00:00,  3.71it/s]   \n"
     ]
    },
    {
     "name": "stdout",
     "output_type": "stream",
     "text": [
      "img_database_r\\Mulher\\Pessoa 01\\Bravo_r.png\n"
     ]
    },
    {
     "name": "stderr",
     "output_type": "stream",
     "text": [
      "Action: race: 100%|██████████| 4/4 [00:01<00:00,  3.70it/s]   \n"
     ]
    },
    {
     "name": "stdout",
     "output_type": "stream",
     "text": [
      "img_database_r\\Mulher\\Pessoa 01\\Feliz_r.png\n"
     ]
    },
    {
     "name": "stderr",
     "output_type": "stream",
     "text": [
      "Action: race: 100%|██████████| 4/4 [00:01<00:00,  3.65it/s]   \n"
     ]
    },
    {
     "name": "stdout",
     "output_type": "stream",
     "text": [
      "img_database_r\\Mulher\\Pessoa 01\\Neutro_r.png\n"
     ]
    },
    {
     "name": "stderr",
     "output_type": "stream",
     "text": [
      "Action: race: 100%|██████████| 4/4 [00:01<00:00,  3.75it/s]   \n"
     ]
    },
    {
     "name": "stdout",
     "output_type": "stream",
     "text": [
      "img_database_r\\Mulher\\Pessoa 01\\Triste_r.png\n"
     ]
    },
    {
     "name": "stderr",
     "output_type": "stream",
     "text": [
      "Action: race: 100%|██████████| 4/4 [00:01<00:00,  3.65it/s]   \n"
     ]
    },
    {
     "name": "stdout",
     "output_type": "stream",
     "text": [
      "img_database_r\\Mulher\\Pessoa 02\\Bravo_r.png\n"
     ]
    },
    {
     "name": "stderr",
     "output_type": "stream",
     "text": [
      "Action: race: 100%|██████████| 4/4 [00:01<00:00,  3.74it/s]   \n"
     ]
    },
    {
     "name": "stdout",
     "output_type": "stream",
     "text": [
      "img_database_r\\Mulher\\Pessoa 02\\Feliz_r.png\n"
     ]
    },
    {
     "name": "stderr",
     "output_type": "stream",
     "text": [
      "Action: race: 100%|██████████| 4/4 [00:01<00:00,  3.71it/s]   \n"
     ]
    },
    {
     "name": "stdout",
     "output_type": "stream",
     "text": [
      "img_database_r\\Mulher\\Pessoa 02\\Neutro_r.png\n"
     ]
    },
    {
     "name": "stderr",
     "output_type": "stream",
     "text": [
      "Action: race: 100%|██████████| 4/4 [00:01<00:00,  3.77it/s]   \n"
     ]
    },
    {
     "name": "stdout",
     "output_type": "stream",
     "text": [
      "img_database_r\\Mulher\\Pessoa 02\\Triste_r.png\n"
     ]
    },
    {
     "name": "stderr",
     "output_type": "stream",
     "text": [
      "Action: race: 100%|██████████| 4/4 [00:01<00:00,  3.78it/s]   \n"
     ]
    },
    {
     "name": "stdout",
     "output_type": "stream",
     "text": [
      "img_database_r\\Mulher\\Pessoa 03\\Bravo_r.png\n"
     ]
    },
    {
     "name": "stderr",
     "output_type": "stream",
     "text": [
      "Action: race: 100%|██████████| 4/4 [00:01<00:00,  3.77it/s]   \n"
     ]
    },
    {
     "name": "stdout",
     "output_type": "stream",
     "text": [
      "img_database_r\\Mulher\\Pessoa 03\\Feliz_r.png\n"
     ]
    },
    {
     "name": "stderr",
     "output_type": "stream",
     "text": [
      "Action: race: 100%|██████████| 4/4 [00:01<00:00,  3.66it/s]   \n"
     ]
    },
    {
     "name": "stdout",
     "output_type": "stream",
     "text": [
      "img_database_r\\Mulher\\Pessoa 03\\Neutro_r.png\n"
     ]
    },
    {
     "name": "stderr",
     "output_type": "stream",
     "text": [
      "Action: race: 100%|██████████| 4/4 [00:01<00:00,  3.70it/s]   \n"
     ]
    },
    {
     "name": "stdout",
     "output_type": "stream",
     "text": [
      "img_database_r\\Mulher\\Pessoa 03\\Triste_r.png\n"
     ]
    },
    {
     "name": "stderr",
     "output_type": "stream",
     "text": [
      "Action: race: 100%|██████████| 4/4 [00:01<00:00,  3.75it/s]   \n"
     ]
    },
    {
     "name": "stdout",
     "output_type": "stream",
     "text": [
      "img_database_r\\Mulher\\Pessoa 05\\Bravo_r.png\n"
     ]
    },
    {
     "name": "stderr",
     "output_type": "stream",
     "text": [
      "Action: race: 100%|██████████| 4/4 [00:01<00:00,  3.68it/s]   \n"
     ]
    },
    {
     "name": "stdout",
     "output_type": "stream",
     "text": [
      "img_database_r\\Mulher\\Pessoa 05\\Feliz_r.png\n"
     ]
    },
    {
     "name": "stderr",
     "output_type": "stream",
     "text": [
      "Action: race: 100%|██████████| 4/4 [00:01<00:00,  3.76it/s]   \n"
     ]
    },
    {
     "name": "stdout",
     "output_type": "stream",
     "text": [
      "img_database_r\\Mulher\\Pessoa 05\\Neutro_r.png\n"
     ]
    },
    {
     "name": "stderr",
     "output_type": "stream",
     "text": [
      "Action: race: 100%|██████████| 4/4 [00:01<00:00,  3.74it/s]   \n"
     ]
    },
    {
     "name": "stdout",
     "output_type": "stream",
     "text": [
      "img_database_r\\Mulher\\Pessoa 05\\Triste_r.png\n"
     ]
    },
    {
     "name": "stderr",
     "output_type": "stream",
     "text": [
      "Action: race: 100%|██████████| 4/4 [00:01<00:00,  3.28it/s]   \n"
     ]
    },
    {
     "name": "stdout",
     "output_type": "stream",
     "text": [
      "img_database_r\\Mulher\\Pessoa 07\\Bravo_r.png\n"
     ]
    },
    {
     "name": "stderr",
     "output_type": "stream",
     "text": [
      "Action: race: 100%|██████████| 4/4 [00:01<00:00,  3.63it/s]   \n"
     ]
    },
    {
     "name": "stdout",
     "output_type": "stream",
     "text": [
      "img_database_r\\Mulher\\Pessoa 07\\Feliz_r.png\n"
     ]
    },
    {
     "name": "stderr",
     "output_type": "stream",
     "text": [
      "Action: race: 100%|██████████| 4/4 [00:01<00:00,  3.71it/s]   \n"
     ]
    },
    {
     "name": "stdout",
     "output_type": "stream",
     "text": [
      "img_database_r\\Mulher\\Pessoa 07\\Neutro_r.png\n"
     ]
    },
    {
     "name": "stderr",
     "output_type": "stream",
     "text": [
      "Action: race: 100%|██████████| 4/4 [00:01<00:00,  3.76it/s]   \n"
     ]
    },
    {
     "name": "stdout",
     "output_type": "stream",
     "text": [
      "img_database_r\\Mulher\\Pessoa 07\\Triste_r.png\n"
     ]
    },
    {
     "name": "stderr",
     "output_type": "stream",
     "text": [
      "Action: race: 100%|██████████| 4/4 [00:01<00:00,  3.70it/s]   \n"
     ]
    },
    {
     "name": "stdout",
     "output_type": "stream",
     "text": [
      "img_database_r\\Mulher\\Pessoa 08\\Bravo_r.png\n"
     ]
    },
    {
     "name": "stderr",
     "output_type": "stream",
     "text": [
      "Action: race: 100%|██████████| 4/4 [00:01<00:00,  3.68it/s]   \n"
     ]
    },
    {
     "name": "stdout",
     "output_type": "stream",
     "text": [
      "img_database_r\\Mulher\\Pessoa 08\\Feliz_r.png\n"
     ]
    },
    {
     "name": "stderr",
     "output_type": "stream",
     "text": [
      "Action: race: 100%|██████████| 4/4 [00:01<00:00,  3.71it/s]   \n"
     ]
    },
    {
     "name": "stdout",
     "output_type": "stream",
     "text": [
      "img_database_r\\Mulher\\Pessoa 08\\Neutro_r.png\n"
     ]
    },
    {
     "name": "stderr",
     "output_type": "stream",
     "text": [
      "Action: race: 100%|██████████| 4/4 [00:01<00:00,  3.69it/s]   \n"
     ]
    },
    {
     "name": "stdout",
     "output_type": "stream",
     "text": [
      "img_database_r\\Mulher\\Pessoa 08\\Triste_r.png\n"
     ]
    },
    {
     "name": "stderr",
     "output_type": "stream",
     "text": [
      "Action: race: 100%|██████████| 4/4 [00:01<00:00,  3.68it/s]   \n"
     ]
    },
    {
     "name": "stdout",
     "output_type": "stream",
     "text": [
      "img_database_r\\Mulher\\Pessoa 10\\Bravo_r.png\n"
     ]
    },
    {
     "name": "stderr",
     "output_type": "stream",
     "text": [
      "Action: race: 100%|██████████| 4/4 [00:01<00:00,  3.74it/s]   \n"
     ]
    },
    {
     "name": "stdout",
     "output_type": "stream",
     "text": [
      "img_database_r\\Mulher\\Pessoa 10\\Feliz_r.png\n"
     ]
    },
    {
     "name": "stderr",
     "output_type": "stream",
     "text": [
      "Action: race: 100%|██████████| 4/4 [00:01<00:00,  3.66it/s]   \n"
     ]
    },
    {
     "name": "stdout",
     "output_type": "stream",
     "text": [
      "img_database_r\\Mulher\\Pessoa 10\\Neutro_r.png\n"
     ]
    },
    {
     "name": "stderr",
     "output_type": "stream",
     "text": [
      "Action: race: 100%|██████████| 4/4 [00:01<00:00,  3.72it/s]   \n"
     ]
    },
    {
     "name": "stdout",
     "output_type": "stream",
     "text": [
      "img_database_r\\Mulher\\Pessoa 10\\Triste_r.png\n"
     ]
    },
    {
     "name": "stderr",
     "output_type": "stream",
     "text": [
      "Action: race: 100%|██████████| 4/4 [00:01<00:00,  3.74it/s]   \n"
     ]
    },
    {
     "name": "stdout",
     "output_type": "stream",
     "text": [
      "img_database_r\\Mulher\\Pessoa 13\\Bravo_r.png\n"
     ]
    },
    {
     "name": "stderr",
     "output_type": "stream",
     "text": [
      "Action: race: 100%|██████████| 4/4 [00:01<00:00,  3.69it/s]   \n"
     ]
    },
    {
     "name": "stdout",
     "output_type": "stream",
     "text": [
      "img_database_r\\Mulher\\Pessoa 13\\Feliz_r.png\n"
     ]
    },
    {
     "name": "stderr",
     "output_type": "stream",
     "text": [
      "Action: race: 100%|██████████| 4/4 [00:01<00:00,  3.70it/s]   \n"
     ]
    },
    {
     "name": "stdout",
     "output_type": "stream",
     "text": [
      "img_database_r\\Mulher\\Pessoa 13\\Neutro_r.png\n"
     ]
    },
    {
     "name": "stderr",
     "output_type": "stream",
     "text": [
      "Action: race: 100%|██████████| 4/4 [00:01<00:00,  3.64it/s]   \n"
     ]
    },
    {
     "name": "stdout",
     "output_type": "stream",
     "text": [
      "img_database_r\\Mulher\\Pessoa 13\\Triste_r.png\n"
     ]
    },
    {
     "name": "stderr",
     "output_type": "stream",
     "text": [
      "Action: race: 100%|██████████| 4/4 [00:01<00:00,  3.72it/s]   \n"
     ]
    },
    {
     "name": "stdout",
     "output_type": "stream",
     "text": [
      "img_database_r\\Mulher\\Pessoa 15\\Bravo_r.png\n"
     ]
    },
    {
     "name": "stderr",
     "output_type": "stream",
     "text": [
      "Action: race: 100%|██████████| 4/4 [00:01<00:00,  3.75it/s]   \n"
     ]
    },
    {
     "name": "stdout",
     "output_type": "stream",
     "text": [
      "img_database_r\\Mulher\\Pessoa 15\\Feliz_r.png\n"
     ]
    },
    {
     "name": "stderr",
     "output_type": "stream",
     "text": [
      "Action: race: 100%|██████████| 4/4 [00:01<00:00,  3.73it/s]   \n"
     ]
    },
    {
     "name": "stdout",
     "output_type": "stream",
     "text": [
      "img_database_r\\Mulher\\Pessoa 15\\Neutro_r.png\n"
     ]
    },
    {
     "name": "stderr",
     "output_type": "stream",
     "text": [
      "Action: race: 100%|██████████| 4/4 [00:01<00:00,  3.70it/s]   \n"
     ]
    },
    {
     "name": "stdout",
     "output_type": "stream",
     "text": [
      "img_database_r\\Mulher\\Pessoa 15\\Triste_r.png\n"
     ]
    },
    {
     "name": "stderr",
     "output_type": "stream",
     "text": [
      "Action: race: 100%|██████████| 4/4 [00:01<00:00,  3.73it/s]   \n"
     ]
    },
    {
     "name": "stdout",
     "output_type": "stream",
     "text": [
      "img_database_r\\Mulher\\Pessoa 16\\Bravo_r.png\n"
     ]
    },
    {
     "name": "stderr",
     "output_type": "stream",
     "text": [
      "Action: race: 100%|██████████| 4/4 [00:01<00:00,  3.69it/s]   \n"
     ]
    },
    {
     "name": "stdout",
     "output_type": "stream",
     "text": [
      "img_database_r\\Mulher\\Pessoa 16\\Feliz_r.png\n"
     ]
    },
    {
     "name": "stderr",
     "output_type": "stream",
     "text": [
      "Action: race: 100%|██████████| 4/4 [00:01<00:00,  3.68it/s]   \n"
     ]
    },
    {
     "name": "stdout",
     "output_type": "stream",
     "text": [
      "img_database_r\\Mulher\\Pessoa 16\\Neutro_r.png\n"
     ]
    },
    {
     "name": "stderr",
     "output_type": "stream",
     "text": [
      "Action: race: 100%|██████████| 4/4 [00:01<00:00,  3.72it/s]   \n"
     ]
    },
    {
     "name": "stdout",
     "output_type": "stream",
     "text": [
      "img_database_r\\Mulher\\Pessoa 16\\Triste_r.png\n"
     ]
    },
    {
     "name": "stderr",
     "output_type": "stream",
     "text": [
      "Action: race: 100%|██████████| 4/4 [00:01<00:00,  3.70it/s]   \n"
     ]
    },
    {
     "name": "stdout",
     "output_type": "stream",
     "text": [
      "img_database_r\\Mulher\\Pessoa 20\\Bravo.jpeg\n"
     ]
    },
    {
     "name": "stderr",
     "output_type": "stream",
     "text": [
      "Action: race: 100%|██████████| 4/4 [00:04<00:00,  1.06s/it]   \n"
     ]
    },
    {
     "name": "stdout",
     "output_type": "stream",
     "text": [
      "img_database_r\\Mulher\\Pessoa 20\\Feliz.jpeg\n"
     ]
    },
    {
     "name": "stderr",
     "output_type": "stream",
     "text": [
      "Action: race: 100%|██████████| 4/4 [00:04<00:00,  1.03s/it]   \n"
     ]
    },
    {
     "name": "stdout",
     "output_type": "stream",
     "text": [
      "img_database_r\\Mulher\\Pessoa 20\\Neutro.jpeg\n"
     ]
    },
    {
     "name": "stderr",
     "output_type": "stream",
     "text": [
      "Action: race: 100%|██████████| 4/4 [00:03<00:00,  1.02it/s]   \n"
     ]
    },
    {
     "name": "stdout",
     "output_type": "stream",
     "text": [
      "img_database_r\\Mulher\\Pessoa 20\\Triste.jpeg\n"
     ]
    },
    {
     "name": "stderr",
     "output_type": "stream",
     "text": [
      "Action: race: 100%|██████████| 4/4 [00:04<00:00,  1.05s/it]   \n"
     ]
    },
    {
     "name": "stdout",
     "output_type": "stream",
     "text": [
      "img_database_r\\Mulher\\Pessoa 21\\Bravo.png\n"
     ]
    },
    {
     "name": "stderr",
     "output_type": "stream",
     "text": [
      "Action: race: 100%|██████████| 4/4 [00:01<00:00,  2.56it/s]   \n"
     ]
    },
    {
     "name": "stdout",
     "output_type": "stream",
     "text": [
      "img_database_r\\Mulher\\Pessoa 21\\Feliz.png\n"
     ]
    },
    {
     "name": "stderr",
     "output_type": "stream",
     "text": [
      "Action: race: 100%|██████████| 4/4 [00:01<00:00,  2.56it/s]   \n"
     ]
    },
    {
     "name": "stdout",
     "output_type": "stream",
     "text": [
      "img_database_r\\Mulher\\Pessoa 21\\Neutro.png\n"
     ]
    },
    {
     "name": "stderr",
     "output_type": "stream",
     "text": [
      "Action: race: 100%|██████████| 4/4 [00:01<00:00,  2.33it/s]   \n"
     ]
    },
    {
     "name": "stdout",
     "output_type": "stream",
     "text": [
      "img_database_r\\Mulher\\Pessoa 21\\Triste.png\n"
     ]
    },
    {
     "name": "stderr",
     "output_type": "stream",
     "text": [
      "Action: race: 100%|██████████| 4/4 [00:01<00:00,  2.47it/s]   \n"
     ]
    },
    {
     "name": "stdout",
     "output_type": "stream",
     "text": [
      "img_database_r\\Mulher\\Pessoa 22\\Bravo.jpeg\n"
     ]
    },
    {
     "name": "stderr",
     "output_type": "stream",
     "text": [
      "Action: race: 100%|██████████| 4/4 [00:05<00:00,  1.48s/it]   \n"
     ]
    },
    {
     "name": "stdout",
     "output_type": "stream",
     "text": [
      "img_database_r\\Mulher\\Pessoa 22\\Feliz.jpeg\n"
     ]
    },
    {
     "name": "stderr",
     "output_type": "stream",
     "text": [
      "Action: race: 100%|██████████| 4/4 [00:05<00:00,  1.44s/it]   \n"
     ]
    },
    {
     "name": "stdout",
     "output_type": "stream",
     "text": [
      "img_database_r\\Mulher\\Pessoa 22\\Neutro.jpeg\n"
     ]
    },
    {
     "name": "stderr",
     "output_type": "stream",
     "text": [
      "Action: race: 100%|██████████| 4/4 [00:05<00:00,  1.46s/it]   \n"
     ]
    },
    {
     "name": "stdout",
     "output_type": "stream",
     "text": [
      "img_database_r\\Mulher\\Pessoa 22\\Triste.jpeg\n"
     ]
    },
    {
     "name": "stderr",
     "output_type": "stream",
     "text": [
      "Action: race: 100%|██████████| 4/4 [00:05<00:00,  1.45s/it]   \n"
     ]
    },
    {
     "name": "stdout",
     "output_type": "stream",
     "text": [
      "img_database_r\\Mulher\\Pessoa 23\\Bravo.jpg\n"
     ]
    },
    {
     "name": "stderr",
     "output_type": "stream",
     "text": [
      "Action: race: 100%|██████████| 4/4 [00:09<00:00,  2.49s/it]   \n"
     ]
    },
    {
     "name": "stdout",
     "output_type": "stream",
     "text": [
      "img_database_r\\Mulher\\Pessoa 23\\Feliz.jpg\n"
     ]
    },
    {
     "name": "stderr",
     "output_type": "stream",
     "text": [
      "Action: race: 100%|██████████| 4/4 [00:10<00:00,  2.50s/it]   \n"
     ]
    },
    {
     "name": "stdout",
     "output_type": "stream",
     "text": [
      "img_database_r\\Mulher\\Pessoa 23\\Neutro.jpg\n"
     ]
    },
    {
     "name": "stderr",
     "output_type": "stream",
     "text": [
      "Action: race: 100%|██████████| 4/4 [00:09<00:00,  2.50s/it]   \n"
     ]
    },
    {
     "name": "stdout",
     "output_type": "stream",
     "text": [
      "img_database_r\\Mulher\\Pessoa 23\\Triste.jpg\n"
     ]
    },
    {
     "name": "stderr",
     "output_type": "stream",
     "text": [
      "Action: race: 100%|██████████| 4/4 [00:10<00:00,  2.60s/it]   \n"
     ]
    },
    {
     "data": {
      "text/html": [
       "<div>\n",
       "<style scoped>\n",
       "    .dataframe tbody tr th:only-of-type {\n",
       "        vertical-align: middle;\n",
       "    }\n",
       "\n",
       "    .dataframe tbody tr th {\n",
       "        vertical-align: top;\n",
       "    }\n",
       "\n",
       "    .dataframe thead th {\n",
       "        text-align: right;\n",
       "    }\n",
       "</style>\n",
       "<table border=\"1\" class=\"dataframe\">\n",
       "  <thead>\n",
       "    <tr style=\"text-align: right;\">\n",
       "      <th></th>\n",
       "      <th>dominant_emotion</th>\n",
       "      <th>age</th>\n",
       "      <th>gender</th>\n",
       "      <th>dominant_race</th>\n",
       "      <th>angry</th>\n",
       "      <th>disgust</th>\n",
       "      <th>fear</th>\n",
       "      <th>happy</th>\n",
       "      <th>sad</th>\n",
       "      <th>surprise</th>\n",
       "      <th>...</th>\n",
       "      <th>valence</th>\n",
       "      <th>tempo</th>\n",
       "      <th>type</th>\n",
       "      <th>id</th>\n",
       "      <th>uri</th>\n",
       "      <th>track_href</th>\n",
       "      <th>analysis_url</th>\n",
       "      <th>duration_ms</th>\n",
       "      <th>time_signature</th>\n",
       "      <th>Unnamed: 18</th>\n",
       "    </tr>\n",
       "  </thead>\n",
       "  <tbody>\n",
       "    <tr>\n",
       "      <th>0</th>\n",
       "      <td>angry</td>\n",
       "      <td>32</td>\n",
       "      <td>Man</td>\n",
       "      <td>white</td>\n",
       "      <td>92.755395</td>\n",
       "      <td>1.742503e-03</td>\n",
       "      <td>1.530258</td>\n",
       "      <td>0.000033</td>\n",
       "      <td>5.704149</td>\n",
       "      <td>0.000004</td>\n",
       "      <td>...</td>\n",
       "      <td>0.259</td>\n",
       "      <td>151.297</td>\n",
       "      <td>audio_features</td>\n",
       "      <td>7Hr1Ignop7cymbE3FbOtXa</td>\n",
       "      <td>spotify:track:7Hr1Ignop7cymbE3FbOtXa</td>\n",
       "      <td>https://api.spotify.com/v1/tracks/7Hr1Ignop7cy...</td>\n",
       "      <td>https://api.spotify.com/v1/audio-analysis/7Hr1...</td>\n",
       "      <td>326813</td>\n",
       "      <td>4</td>\n",
       "      <td>NaN</td>\n",
       "    </tr>\n",
       "    <tr>\n",
       "      <th>1</th>\n",
       "      <td>happy</td>\n",
       "      <td>27</td>\n",
       "      <td>Man</td>\n",
       "      <td>white</td>\n",
       "      <td>0.025171</td>\n",
       "      <td>1.466431e-04</td>\n",
       "      <td>0.010573</td>\n",
       "      <td>96.789300</td>\n",
       "      <td>1.240855</td>\n",
       "      <td>0.000150</td>\n",
       "      <td>...</td>\n",
       "      <td>0.454</td>\n",
       "      <td>136.279</td>\n",
       "      <td>audio_features</td>\n",
       "      <td>1VuBmEauSZywQVtqbxNqka</td>\n",
       "      <td>spotify:track:1VuBmEauSZywQVtqbxNqka</td>\n",
       "      <td>https://api.spotify.com/v1/tracks/1VuBmEauSZyw...</td>\n",
       "      <td>https://api.spotify.com/v1/audio-analysis/1VuB...</td>\n",
       "      <td>246400</td>\n",
       "      <td>4</td>\n",
       "      <td>NaN</td>\n",
       "    </tr>\n",
       "    <tr>\n",
       "      <th>2</th>\n",
       "      <td>sad</td>\n",
       "      <td>29</td>\n",
       "      <td>Man</td>\n",
       "      <td>white</td>\n",
       "      <td>45.823449</td>\n",
       "      <td>4.112436e-03</td>\n",
       "      <td>2.985845</td>\n",
       "      <td>0.000594</td>\n",
       "      <td>46.023464</td>\n",
       "      <td>0.003502</td>\n",
       "      <td>...</td>\n",
       "      <td>0.117</td>\n",
       "      <td>81.995</td>\n",
       "      <td>audio_features</td>\n",
       "      <td>4NU4ZK3ncM05KPUc8JSuQ5</td>\n",
       "      <td>spotify:track:4NU4ZK3ncM05KPUc8JSuQ5</td>\n",
       "      <td>https://api.spotify.com/v1/tracks/4NU4ZK3ncM05...</td>\n",
       "      <td>https://api.spotify.com/v1/audio-analysis/4NU4...</td>\n",
       "      <td>131715</td>\n",
       "      <td>4</td>\n",
       "      <td>NaN</td>\n",
       "    </tr>\n",
       "    <tr>\n",
       "      <th>3</th>\n",
       "      <td>angry</td>\n",
       "      <td>30</td>\n",
       "      <td>Man</td>\n",
       "      <td>white</td>\n",
       "      <td>66.152805</td>\n",
       "      <td>6.050717e-02</td>\n",
       "      <td>8.196913</td>\n",
       "      <td>0.107843</td>\n",
       "      <td>16.896313</td>\n",
       "      <td>2.617431</td>\n",
       "      <td>...</td>\n",
       "      <td>0.686</td>\n",
       "      <td>174.727</td>\n",
       "      <td>audio_features</td>\n",
       "      <td>4yBiZFLXn0n9AUJ5sWO88k</td>\n",
       "      <td>spotify:track:4yBiZFLXn0n9AUJ5sWO88k</td>\n",
       "      <td>https://api.spotify.com/v1/tracks/4yBiZFLXn0n9...</td>\n",
       "      <td>https://api.spotify.com/v1/audio-analysis/4yBi...</td>\n",
       "      <td>258717</td>\n",
       "      <td>4</td>\n",
       "      <td>NaN</td>\n",
       "    </tr>\n",
       "    <tr>\n",
       "      <th>4</th>\n",
       "      <td>surprise</td>\n",
       "      <td>34</td>\n",
       "      <td>Man</td>\n",
       "      <td>asian</td>\n",
       "      <td>1.954687</td>\n",
       "      <td>1.198679e-03</td>\n",
       "      <td>1.221227</td>\n",
       "      <td>0.013479</td>\n",
       "      <td>0.000025</td>\n",
       "      <td>96.809334</td>\n",
       "      <td>...</td>\n",
       "      <td>0.259</td>\n",
       "      <td>151.297</td>\n",
       "      <td>audio_features</td>\n",
       "      <td>7Hr1Ignop7cymbE3FbOtXa</td>\n",
       "      <td>spotify:track:7Hr1Ignop7cymbE3FbOtXa</td>\n",
       "      <td>https://api.spotify.com/v1/tracks/7Hr1Ignop7cy...</td>\n",
       "      <td>https://api.spotify.com/v1/audio-analysis/7Hr1...</td>\n",
       "      <td>326813</td>\n",
       "      <td>4</td>\n",
       "      <td>NaN</td>\n",
       "    </tr>\n",
       "    <tr>\n",
       "      <th>...</th>\n",
       "      <td>...</td>\n",
       "      <td>...</td>\n",
       "      <td>...</td>\n",
       "      <td>...</td>\n",
       "      <td>...</td>\n",
       "      <td>...</td>\n",
       "      <td>...</td>\n",
       "      <td>...</td>\n",
       "      <td>...</td>\n",
       "      <td>...</td>\n",
       "      <td>...</td>\n",
       "      <td>...</td>\n",
       "      <td>...</td>\n",
       "      <td>...</td>\n",
       "      <td>...</td>\n",
       "      <td>...</td>\n",
       "      <td>...</td>\n",
       "      <td>...</td>\n",
       "      <td>...</td>\n",
       "      <td>...</td>\n",
       "      <td>...</td>\n",
       "    </tr>\n",
       "    <tr>\n",
       "      <th>79</th>\n",
       "      <td>angry</td>\n",
       "      <td>31</td>\n",
       "      <td>Man</td>\n",
       "      <td>white</td>\n",
       "      <td>53.223222</td>\n",
       "      <td>3.628170e-04</td>\n",
       "      <td>0.606637</td>\n",
       "      <td>0.340197</td>\n",
       "      <td>10.284236</td>\n",
       "      <td>0.001016</td>\n",
       "      <td>...</td>\n",
       "      <td>0.372</td>\n",
       "      <td>100.019</td>\n",
       "      <td>audio_features</td>\n",
       "      <td>50gPjAfjdq6BjEz937C3hm</td>\n",
       "      <td>spotify:track:50gPjAfjdq6BjEz937C3hm</td>\n",
       "      <td>https://api.spotify.com/v1/tracks/50gPjAfjdq6B...</td>\n",
       "      <td>https://api.spotify.com/v1/audio-analysis/50gP...</td>\n",
       "      <td>196895</td>\n",
       "      <td>4</td>\n",
       "      <td>NaN</td>\n",
       "    </tr>\n",
       "    <tr>\n",
       "      <th>80</th>\n",
       "      <td>neutral</td>\n",
       "      <td>32</td>\n",
       "      <td>Man</td>\n",
       "      <td>latino hispanic</td>\n",
       "      <td>0.432744</td>\n",
       "      <td>1.064093e-02</td>\n",
       "      <td>0.016589</td>\n",
       "      <td>0.024746</td>\n",
       "      <td>6.479492</td>\n",
       "      <td>0.000162</td>\n",
       "      <td>...</td>\n",
       "      <td>0.571</td>\n",
       "      <td>127.435</td>\n",
       "      <td>audio_features</td>\n",
       "      <td>6fNhZRFEkBfgW39W3wKARJ</td>\n",
       "      <td>spotify:track:6fNhZRFEkBfgW39W3wKARJ</td>\n",
       "      <td>https://api.spotify.com/v1/tracks/6fNhZRFEkBfg...</td>\n",
       "      <td>https://api.spotify.com/v1/audio-analysis/6fNh...</td>\n",
       "      <td>214148</td>\n",
       "      <td>4</td>\n",
       "      <td>NaN</td>\n",
       "    </tr>\n",
       "    <tr>\n",
       "      <th>81</th>\n",
       "      <td>happy</td>\n",
       "      <td>32</td>\n",
       "      <td>Man</td>\n",
       "      <td>latino hispanic</td>\n",
       "      <td>0.000514</td>\n",
       "      <td>5.052229e-08</td>\n",
       "      <td>0.000926</td>\n",
       "      <td>79.427618</td>\n",
       "      <td>0.044463</td>\n",
       "      <td>0.116187</td>\n",
       "      <td>...</td>\n",
       "      <td>0.117</td>\n",
       "      <td>81.995</td>\n",
       "      <td>audio_features</td>\n",
       "      <td>4NU4ZK3ncM05KPUc8JSuQ5</td>\n",
       "      <td>spotify:track:4NU4ZK3ncM05KPUc8JSuQ5</td>\n",
       "      <td>https://api.spotify.com/v1/tracks/4NU4ZK3ncM05...</td>\n",
       "      <td>https://api.spotify.com/v1/audio-analysis/4NU4...</td>\n",
       "      <td>131715</td>\n",
       "      <td>4</td>\n",
       "      <td>NaN</td>\n",
       "    </tr>\n",
       "    <tr>\n",
       "      <th>82</th>\n",
       "      <td>neutral</td>\n",
       "      <td>32</td>\n",
       "      <td>Man</td>\n",
       "      <td>latino hispanic</td>\n",
       "      <td>0.432744</td>\n",
       "      <td>1.064093e-02</td>\n",
       "      <td>0.016589</td>\n",
       "      <td>0.024746</td>\n",
       "      <td>6.479492</td>\n",
       "      <td>0.000162</td>\n",
       "      <td>...</td>\n",
       "      <td>0.671</td>\n",
       "      <td>100.015</td>\n",
       "      <td>audio_features</td>\n",
       "      <td>2dpaYNEQHiRxtZbfNsse99</td>\n",
       "      <td>spotify:track:2dpaYNEQHiRxtZbfNsse99</td>\n",
       "      <td>https://api.spotify.com/v1/tracks/2dpaYNEQHiRx...</td>\n",
       "      <td>https://api.spotify.com/v1/audio-analysis/2dpa...</td>\n",
       "      <td>214290</td>\n",
       "      <td>4</td>\n",
       "      <td>NaN</td>\n",
       "    </tr>\n",
       "    <tr>\n",
       "      <th>83</th>\n",
       "      <td>neutral</td>\n",
       "      <td>31</td>\n",
       "      <td>Man</td>\n",
       "      <td>asian</td>\n",
       "      <td>0.032347</td>\n",
       "      <td>2.066264e-05</td>\n",
       "      <td>0.012612</td>\n",
       "      <td>0.029215</td>\n",
       "      <td>1.394452</td>\n",
       "      <td>0.000052</td>\n",
       "      <td>...</td>\n",
       "      <td>NaN</td>\n",
       "      <td>NaN</td>\n",
       "      <td>NaN</td>\n",
       "      <td>NaN</td>\n",
       "      <td>NaN</td>\n",
       "      <td>NaN</td>\n",
       "      <td>NaN</td>\n",
       "      <td>NaN</td>\n",
       "      <td>NaN</td>\n",
       "      <td>NaN</td>\n",
       "    </tr>\n",
       "  </tbody>\n",
       "</table>\n",
       "<p>84 rows × 30 columns</p>\n",
       "</div>"
      ],
      "text/plain": [
       "   dominant_emotion  age gender    dominant_race      angry       disgust  \\\n",
       "0             angry   32    Man            white  92.755395  1.742503e-03   \n",
       "1             happy   27    Man            white   0.025171  1.466431e-04   \n",
       "2               sad   29    Man            white  45.823449  4.112436e-03   \n",
       "3             angry   30    Man            white  66.152805  6.050717e-02   \n",
       "4          surprise   34    Man            asian   1.954687  1.198679e-03   \n",
       "..              ...  ...    ...              ...        ...           ...   \n",
       "79            angry   31    Man            white  53.223222  3.628170e-04   \n",
       "80          neutral   32    Man  latino hispanic   0.432744  1.064093e-02   \n",
       "81            happy   32    Man  latino hispanic   0.000514  5.052229e-08   \n",
       "82          neutral   32    Man  latino hispanic   0.432744  1.064093e-02   \n",
       "83          neutral   31    Man            asian   0.032347  2.066264e-05   \n",
       "\n",
       "        fear      happy        sad   surprise  ...  valence    tempo  \\\n",
       "0   1.530258   0.000033   5.704149   0.000004  ...    0.259  151.297   \n",
       "1   0.010573  96.789300   1.240855   0.000150  ...    0.454  136.279   \n",
       "2   2.985845   0.000594  46.023464   0.003502  ...    0.117   81.995   \n",
       "3   8.196913   0.107843  16.896313   2.617431  ...    0.686  174.727   \n",
       "4   1.221227   0.013479   0.000025  96.809334  ...    0.259  151.297   \n",
       "..       ...        ...        ...        ...  ...      ...      ...   \n",
       "79  0.606637   0.340197  10.284236   0.001016  ...    0.372  100.019   \n",
       "80  0.016589   0.024746   6.479492   0.000162  ...    0.571  127.435   \n",
       "81  0.000926  79.427618   0.044463   0.116187  ...    0.117   81.995   \n",
       "82  0.016589   0.024746   6.479492   0.000162  ...    0.671  100.015   \n",
       "83  0.012612   0.029215   1.394452   0.000052  ...      NaN      NaN   \n",
       "\n",
       "              type                      id  \\\n",
       "0   audio_features  7Hr1Ignop7cymbE3FbOtXa   \n",
       "1   audio_features  1VuBmEauSZywQVtqbxNqka   \n",
       "2   audio_features  4NU4ZK3ncM05KPUc8JSuQ5   \n",
       "3   audio_features  4yBiZFLXn0n9AUJ5sWO88k   \n",
       "4   audio_features  7Hr1Ignop7cymbE3FbOtXa   \n",
       "..             ...                     ...   \n",
       "79  audio_features  50gPjAfjdq6BjEz937C3hm   \n",
       "80  audio_features  6fNhZRFEkBfgW39W3wKARJ   \n",
       "81  audio_features  4NU4ZK3ncM05KPUc8JSuQ5   \n",
       "82  audio_features  2dpaYNEQHiRxtZbfNsse99   \n",
       "83             NaN                     NaN   \n",
       "\n",
       "                                     uri  \\\n",
       "0   spotify:track:7Hr1Ignop7cymbE3FbOtXa   \n",
       "1   spotify:track:1VuBmEauSZywQVtqbxNqka   \n",
       "2   spotify:track:4NU4ZK3ncM05KPUc8JSuQ5   \n",
       "3   spotify:track:4yBiZFLXn0n9AUJ5sWO88k   \n",
       "4   spotify:track:7Hr1Ignop7cymbE3FbOtXa   \n",
       "..                                   ...   \n",
       "79  spotify:track:50gPjAfjdq6BjEz937C3hm   \n",
       "80  spotify:track:6fNhZRFEkBfgW39W3wKARJ   \n",
       "81  spotify:track:4NU4ZK3ncM05KPUc8JSuQ5   \n",
       "82  spotify:track:2dpaYNEQHiRxtZbfNsse99   \n",
       "83                                   NaN   \n",
       "\n",
       "                                           track_href  \\\n",
       "0   https://api.spotify.com/v1/tracks/7Hr1Ignop7cy...   \n",
       "1   https://api.spotify.com/v1/tracks/1VuBmEauSZyw...   \n",
       "2   https://api.spotify.com/v1/tracks/4NU4ZK3ncM05...   \n",
       "3   https://api.spotify.com/v1/tracks/4yBiZFLXn0n9...   \n",
       "4   https://api.spotify.com/v1/tracks/7Hr1Ignop7cy...   \n",
       "..                                                ...   \n",
       "79  https://api.spotify.com/v1/tracks/50gPjAfjdq6B...   \n",
       "80  https://api.spotify.com/v1/tracks/6fNhZRFEkBfg...   \n",
       "81  https://api.spotify.com/v1/tracks/4NU4ZK3ncM05...   \n",
       "82  https://api.spotify.com/v1/tracks/2dpaYNEQHiRx...   \n",
       "83                                                NaN   \n",
       "\n",
       "                                         analysis_url duration_ms  \\\n",
       "0   https://api.spotify.com/v1/audio-analysis/7Hr1...      326813   \n",
       "1   https://api.spotify.com/v1/audio-analysis/1VuB...      246400   \n",
       "2   https://api.spotify.com/v1/audio-analysis/4NU4...      131715   \n",
       "3   https://api.spotify.com/v1/audio-analysis/4yBi...      258717   \n",
       "4   https://api.spotify.com/v1/audio-analysis/7Hr1...      326813   \n",
       "..                                                ...         ...   \n",
       "79  https://api.spotify.com/v1/audio-analysis/50gP...      196895   \n",
       "80  https://api.spotify.com/v1/audio-analysis/6fNh...      214148   \n",
       "81  https://api.spotify.com/v1/audio-analysis/4NU4...      131715   \n",
       "82  https://api.spotify.com/v1/audio-analysis/2dpa...      214290   \n",
       "83                                                NaN         NaN   \n",
       "\n",
       "   time_signature Unnamed: 18  \n",
       "0               4         NaN  \n",
       "1               4         NaN  \n",
       "2               4         NaN  \n",
       "3               4         NaN  \n",
       "4               4         NaN  \n",
       "..            ...         ...  \n",
       "79              4         NaN  \n",
       "80              4         NaN  \n",
       "81              4         NaN  \n",
       "82              4         NaN  \n",
       "83            NaN         NaN  \n",
       "\n",
       "[84 rows x 30 columns]"
      ]
     },
     "execution_count": 6,
     "metadata": {},
     "output_type": "execute_result"
    }
   ],
   "source": [
    "df = get_data_from_db('img_database_r')\n",
    "df"
   ]
  },
  {
   "cell_type": "code",
   "execution_count": 8,
   "metadata": {},
   "outputs": [],
   "source": [
    "df = df.drop(columns='Unnamed: 18')"
   ]
  },
  {
   "cell_type": "code",
   "execution_count": 9,
   "metadata": {},
   "outputs": [
    {
     "data": {
      "text/html": [
       "<div>\n",
       "<style scoped>\n",
       "    .dataframe tbody tr th:only-of-type {\n",
       "        vertical-align: middle;\n",
       "    }\n",
       "\n",
       "    .dataframe tbody tr th {\n",
       "        vertical-align: top;\n",
       "    }\n",
       "\n",
       "    .dataframe thead th {\n",
       "        text-align: right;\n",
       "    }\n",
       "</style>\n",
       "<table border=\"1\" class=\"dataframe\">\n",
       "  <thead>\n",
       "    <tr style=\"text-align: right;\">\n",
       "      <th></th>\n",
       "      <th>dominant_emotion</th>\n",
       "      <th>age</th>\n",
       "      <th>gender</th>\n",
       "      <th>dominant_race</th>\n",
       "      <th>angry</th>\n",
       "      <th>disgust</th>\n",
       "      <th>fear</th>\n",
       "      <th>happy</th>\n",
       "      <th>sad</th>\n",
       "      <th>surprise</th>\n",
       "      <th>...</th>\n",
       "      <th>liveness</th>\n",
       "      <th>valence</th>\n",
       "      <th>tempo</th>\n",
       "      <th>type</th>\n",
       "      <th>id</th>\n",
       "      <th>uri</th>\n",
       "      <th>track_href</th>\n",
       "      <th>analysis_url</th>\n",
       "      <th>duration_ms</th>\n",
       "      <th>time_signature</th>\n",
       "    </tr>\n",
       "  </thead>\n",
       "  <tbody>\n",
       "    <tr>\n",
       "      <th>0</th>\n",
       "      <td>angry</td>\n",
       "      <td>32</td>\n",
       "      <td>Man</td>\n",
       "      <td>white</td>\n",
       "      <td>92.755395</td>\n",
       "      <td>1.742503e-03</td>\n",
       "      <td>1.530258</td>\n",
       "      <td>0.000033</td>\n",
       "      <td>5.704149</td>\n",
       "      <td>0.000004</td>\n",
       "      <td>...</td>\n",
       "      <td>0.142</td>\n",
       "      <td>0.259</td>\n",
       "      <td>151.297</td>\n",
       "      <td>audio_features</td>\n",
       "      <td>7Hr1Ignop7cymbE3FbOtXa</td>\n",
       "      <td>spotify:track:7Hr1Ignop7cymbE3FbOtXa</td>\n",
       "      <td>https://api.spotify.com/v1/tracks/7Hr1Ignop7cy...</td>\n",
       "      <td>https://api.spotify.com/v1/audio-analysis/7Hr1...</td>\n",
       "      <td>326813</td>\n",
       "      <td>4</td>\n",
       "    </tr>\n",
       "    <tr>\n",
       "      <th>1</th>\n",
       "      <td>happy</td>\n",
       "      <td>27</td>\n",
       "      <td>Man</td>\n",
       "      <td>white</td>\n",
       "      <td>0.025171</td>\n",
       "      <td>1.466431e-04</td>\n",
       "      <td>0.010573</td>\n",
       "      <td>96.789300</td>\n",
       "      <td>1.240855</td>\n",
       "      <td>0.000150</td>\n",
       "      <td>...</td>\n",
       "      <td>0.36</td>\n",
       "      <td>0.454</td>\n",
       "      <td>136.279</td>\n",
       "      <td>audio_features</td>\n",
       "      <td>1VuBmEauSZywQVtqbxNqka</td>\n",
       "      <td>spotify:track:1VuBmEauSZywQVtqbxNqka</td>\n",
       "      <td>https://api.spotify.com/v1/tracks/1VuBmEauSZyw...</td>\n",
       "      <td>https://api.spotify.com/v1/audio-analysis/1VuB...</td>\n",
       "      <td>246400</td>\n",
       "      <td>4</td>\n",
       "    </tr>\n",
       "    <tr>\n",
       "      <th>2</th>\n",
       "      <td>sad</td>\n",
       "      <td>29</td>\n",
       "      <td>Man</td>\n",
       "      <td>white</td>\n",
       "      <td>45.823449</td>\n",
       "      <td>4.112436e-03</td>\n",
       "      <td>2.985845</td>\n",
       "      <td>0.000594</td>\n",
       "      <td>46.023464</td>\n",
       "      <td>0.003502</td>\n",
       "      <td>...</td>\n",
       "      <td>0.25</td>\n",
       "      <td>0.117</td>\n",
       "      <td>81.995</td>\n",
       "      <td>audio_features</td>\n",
       "      <td>4NU4ZK3ncM05KPUc8JSuQ5</td>\n",
       "      <td>spotify:track:4NU4ZK3ncM05KPUc8JSuQ5</td>\n",
       "      <td>https://api.spotify.com/v1/tracks/4NU4ZK3ncM05...</td>\n",
       "      <td>https://api.spotify.com/v1/audio-analysis/4NU4...</td>\n",
       "      <td>131715</td>\n",
       "      <td>4</td>\n",
       "    </tr>\n",
       "    <tr>\n",
       "      <th>3</th>\n",
       "      <td>angry</td>\n",
       "      <td>30</td>\n",
       "      <td>Man</td>\n",
       "      <td>white</td>\n",
       "      <td>66.152805</td>\n",
       "      <td>6.050717e-02</td>\n",
       "      <td>8.196913</td>\n",
       "      <td>0.107843</td>\n",
       "      <td>16.896313</td>\n",
       "      <td>2.617431</td>\n",
       "      <td>...</td>\n",
       "      <td>0.158</td>\n",
       "      <td>0.686</td>\n",
       "      <td>174.727</td>\n",
       "      <td>audio_features</td>\n",
       "      <td>4yBiZFLXn0n9AUJ5sWO88k</td>\n",
       "      <td>spotify:track:4yBiZFLXn0n9AUJ5sWO88k</td>\n",
       "      <td>https://api.spotify.com/v1/tracks/4yBiZFLXn0n9...</td>\n",
       "      <td>https://api.spotify.com/v1/audio-analysis/4yBi...</td>\n",
       "      <td>258717</td>\n",
       "      <td>4</td>\n",
       "    </tr>\n",
       "    <tr>\n",
       "      <th>4</th>\n",
       "      <td>surprise</td>\n",
       "      <td>34</td>\n",
       "      <td>Man</td>\n",
       "      <td>asian</td>\n",
       "      <td>1.954687</td>\n",
       "      <td>1.198679e-03</td>\n",
       "      <td>1.221227</td>\n",
       "      <td>0.013479</td>\n",
       "      <td>0.000025</td>\n",
       "      <td>96.809334</td>\n",
       "      <td>...</td>\n",
       "      <td>0.142</td>\n",
       "      <td>0.259</td>\n",
       "      <td>151.297</td>\n",
       "      <td>audio_features</td>\n",
       "      <td>7Hr1Ignop7cymbE3FbOtXa</td>\n",
       "      <td>spotify:track:7Hr1Ignop7cymbE3FbOtXa</td>\n",
       "      <td>https://api.spotify.com/v1/tracks/7Hr1Ignop7cy...</td>\n",
       "      <td>https://api.spotify.com/v1/audio-analysis/7Hr1...</td>\n",
       "      <td>326813</td>\n",
       "      <td>4</td>\n",
       "    </tr>\n",
       "    <tr>\n",
       "      <th>...</th>\n",
       "      <td>...</td>\n",
       "      <td>...</td>\n",
       "      <td>...</td>\n",
       "      <td>...</td>\n",
       "      <td>...</td>\n",
       "      <td>...</td>\n",
       "      <td>...</td>\n",
       "      <td>...</td>\n",
       "      <td>...</td>\n",
       "      <td>...</td>\n",
       "      <td>...</td>\n",
       "      <td>...</td>\n",
       "      <td>...</td>\n",
       "      <td>...</td>\n",
       "      <td>...</td>\n",
       "      <td>...</td>\n",
       "      <td>...</td>\n",
       "      <td>...</td>\n",
       "      <td>...</td>\n",
       "      <td>...</td>\n",
       "      <td>...</td>\n",
       "    </tr>\n",
       "    <tr>\n",
       "      <th>79</th>\n",
       "      <td>angry</td>\n",
       "      <td>31</td>\n",
       "      <td>Man</td>\n",
       "      <td>white</td>\n",
       "      <td>53.223222</td>\n",
       "      <td>3.628170e-04</td>\n",
       "      <td>0.606637</td>\n",
       "      <td>0.340197</td>\n",
       "      <td>10.284236</td>\n",
       "      <td>0.001016</td>\n",
       "      <td>...</td>\n",
       "      <td>0.131</td>\n",
       "      <td>0.372</td>\n",
       "      <td>100.019</td>\n",
       "      <td>audio_features</td>\n",
       "      <td>50gPjAfjdq6BjEz937C3hm</td>\n",
       "      <td>spotify:track:50gPjAfjdq6BjEz937C3hm</td>\n",
       "      <td>https://api.spotify.com/v1/tracks/50gPjAfjdq6B...</td>\n",
       "      <td>https://api.spotify.com/v1/audio-analysis/50gP...</td>\n",
       "      <td>196895</td>\n",
       "      <td>4</td>\n",
       "    </tr>\n",
       "    <tr>\n",
       "      <th>80</th>\n",
       "      <td>neutral</td>\n",
       "      <td>32</td>\n",
       "      <td>Man</td>\n",
       "      <td>latino hispanic</td>\n",
       "      <td>0.432744</td>\n",
       "      <td>1.064093e-02</td>\n",
       "      <td>0.016589</td>\n",
       "      <td>0.024746</td>\n",
       "      <td>6.479492</td>\n",
       "      <td>0.000162</td>\n",
       "      <td>...</td>\n",
       "      <td>0.271</td>\n",
       "      <td>0.571</td>\n",
       "      <td>127.435</td>\n",
       "      <td>audio_features</td>\n",
       "      <td>6fNhZRFEkBfgW39W3wKARJ</td>\n",
       "      <td>spotify:track:6fNhZRFEkBfgW39W3wKARJ</td>\n",
       "      <td>https://api.spotify.com/v1/tracks/6fNhZRFEkBfg...</td>\n",
       "      <td>https://api.spotify.com/v1/audio-analysis/6fNh...</td>\n",
       "      <td>214148</td>\n",
       "      <td>4</td>\n",
       "    </tr>\n",
       "    <tr>\n",
       "      <th>81</th>\n",
       "      <td>happy</td>\n",
       "      <td>32</td>\n",
       "      <td>Man</td>\n",
       "      <td>latino hispanic</td>\n",
       "      <td>0.000514</td>\n",
       "      <td>5.052229e-08</td>\n",
       "      <td>0.000926</td>\n",
       "      <td>79.427618</td>\n",
       "      <td>0.044463</td>\n",
       "      <td>0.116187</td>\n",
       "      <td>...</td>\n",
       "      <td>0.25</td>\n",
       "      <td>0.117</td>\n",
       "      <td>81.995</td>\n",
       "      <td>audio_features</td>\n",
       "      <td>4NU4ZK3ncM05KPUc8JSuQ5</td>\n",
       "      <td>spotify:track:4NU4ZK3ncM05KPUc8JSuQ5</td>\n",
       "      <td>https://api.spotify.com/v1/tracks/4NU4ZK3ncM05...</td>\n",
       "      <td>https://api.spotify.com/v1/audio-analysis/4NU4...</td>\n",
       "      <td>131715</td>\n",
       "      <td>4</td>\n",
       "    </tr>\n",
       "    <tr>\n",
       "      <th>82</th>\n",
       "      <td>neutral</td>\n",
       "      <td>32</td>\n",
       "      <td>Man</td>\n",
       "      <td>latino hispanic</td>\n",
       "      <td>0.432744</td>\n",
       "      <td>1.064093e-02</td>\n",
       "      <td>0.016589</td>\n",
       "      <td>0.024746</td>\n",
       "      <td>6.479492</td>\n",
       "      <td>0.000162</td>\n",
       "      <td>...</td>\n",
       "      <td>0.167</td>\n",
       "      <td>0.671</td>\n",
       "      <td>100.015</td>\n",
       "      <td>audio_features</td>\n",
       "      <td>2dpaYNEQHiRxtZbfNsse99</td>\n",
       "      <td>spotify:track:2dpaYNEQHiRxtZbfNsse99</td>\n",
       "      <td>https://api.spotify.com/v1/tracks/2dpaYNEQHiRx...</td>\n",
       "      <td>https://api.spotify.com/v1/audio-analysis/2dpa...</td>\n",
       "      <td>214290</td>\n",
       "      <td>4</td>\n",
       "    </tr>\n",
       "    <tr>\n",
       "      <th>83</th>\n",
       "      <td>neutral</td>\n",
       "      <td>31</td>\n",
       "      <td>Man</td>\n",
       "      <td>asian</td>\n",
       "      <td>0.032347</td>\n",
       "      <td>2.066264e-05</td>\n",
       "      <td>0.012612</td>\n",
       "      <td>0.029215</td>\n",
       "      <td>1.394452</td>\n",
       "      <td>0.000052</td>\n",
       "      <td>...</td>\n",
       "      <td>NaN</td>\n",
       "      <td>NaN</td>\n",
       "      <td>NaN</td>\n",
       "      <td>NaN</td>\n",
       "      <td>NaN</td>\n",
       "      <td>NaN</td>\n",
       "      <td>NaN</td>\n",
       "      <td>NaN</td>\n",
       "      <td>NaN</td>\n",
       "      <td>NaN</td>\n",
       "    </tr>\n",
       "  </tbody>\n",
       "</table>\n",
       "<p>84 rows × 29 columns</p>\n",
       "</div>"
      ],
      "text/plain": [
       "   dominant_emotion  age gender    dominant_race      angry       disgust  \\\n",
       "0             angry   32    Man            white  92.755395  1.742503e-03   \n",
       "1             happy   27    Man            white   0.025171  1.466431e-04   \n",
       "2               sad   29    Man            white  45.823449  4.112436e-03   \n",
       "3             angry   30    Man            white  66.152805  6.050717e-02   \n",
       "4          surprise   34    Man            asian   1.954687  1.198679e-03   \n",
       "..              ...  ...    ...              ...        ...           ...   \n",
       "79            angry   31    Man            white  53.223222  3.628170e-04   \n",
       "80          neutral   32    Man  latino hispanic   0.432744  1.064093e-02   \n",
       "81            happy   32    Man  latino hispanic   0.000514  5.052229e-08   \n",
       "82          neutral   32    Man  latino hispanic   0.432744  1.064093e-02   \n",
       "83          neutral   31    Man            asian   0.032347  2.066264e-05   \n",
       "\n",
       "        fear      happy        sad   surprise  ...  liveness valence    tempo  \\\n",
       "0   1.530258   0.000033   5.704149   0.000004  ...     0.142   0.259  151.297   \n",
       "1   0.010573  96.789300   1.240855   0.000150  ...      0.36   0.454  136.279   \n",
       "2   2.985845   0.000594  46.023464   0.003502  ...      0.25   0.117   81.995   \n",
       "3   8.196913   0.107843  16.896313   2.617431  ...     0.158   0.686  174.727   \n",
       "4   1.221227   0.013479   0.000025  96.809334  ...     0.142   0.259  151.297   \n",
       "..       ...        ...        ...        ...  ...       ...     ...      ...   \n",
       "79  0.606637   0.340197  10.284236   0.001016  ...     0.131   0.372  100.019   \n",
       "80  0.016589   0.024746   6.479492   0.000162  ...     0.271   0.571  127.435   \n",
       "81  0.000926  79.427618   0.044463   0.116187  ...      0.25   0.117   81.995   \n",
       "82  0.016589   0.024746   6.479492   0.000162  ...     0.167   0.671  100.015   \n",
       "83  0.012612   0.029215   1.394452   0.000052  ...       NaN     NaN      NaN   \n",
       "\n",
       "              type                      id  \\\n",
       "0   audio_features  7Hr1Ignop7cymbE3FbOtXa   \n",
       "1   audio_features  1VuBmEauSZywQVtqbxNqka   \n",
       "2   audio_features  4NU4ZK3ncM05KPUc8JSuQ5   \n",
       "3   audio_features  4yBiZFLXn0n9AUJ5sWO88k   \n",
       "4   audio_features  7Hr1Ignop7cymbE3FbOtXa   \n",
       "..             ...                     ...   \n",
       "79  audio_features  50gPjAfjdq6BjEz937C3hm   \n",
       "80  audio_features  6fNhZRFEkBfgW39W3wKARJ   \n",
       "81  audio_features  4NU4ZK3ncM05KPUc8JSuQ5   \n",
       "82  audio_features  2dpaYNEQHiRxtZbfNsse99   \n",
       "83             NaN                     NaN   \n",
       "\n",
       "                                     uri  \\\n",
       "0   spotify:track:7Hr1Ignop7cymbE3FbOtXa   \n",
       "1   spotify:track:1VuBmEauSZywQVtqbxNqka   \n",
       "2   spotify:track:4NU4ZK3ncM05KPUc8JSuQ5   \n",
       "3   spotify:track:4yBiZFLXn0n9AUJ5sWO88k   \n",
       "4   spotify:track:7Hr1Ignop7cymbE3FbOtXa   \n",
       "..                                   ...   \n",
       "79  spotify:track:50gPjAfjdq6BjEz937C3hm   \n",
       "80  spotify:track:6fNhZRFEkBfgW39W3wKARJ   \n",
       "81  spotify:track:4NU4ZK3ncM05KPUc8JSuQ5   \n",
       "82  spotify:track:2dpaYNEQHiRxtZbfNsse99   \n",
       "83                                   NaN   \n",
       "\n",
       "                                           track_href  \\\n",
       "0   https://api.spotify.com/v1/tracks/7Hr1Ignop7cy...   \n",
       "1   https://api.spotify.com/v1/tracks/1VuBmEauSZyw...   \n",
       "2   https://api.spotify.com/v1/tracks/4NU4ZK3ncM05...   \n",
       "3   https://api.spotify.com/v1/tracks/4yBiZFLXn0n9...   \n",
       "4   https://api.spotify.com/v1/tracks/7Hr1Ignop7cy...   \n",
       "..                                                ...   \n",
       "79  https://api.spotify.com/v1/tracks/50gPjAfjdq6B...   \n",
       "80  https://api.spotify.com/v1/tracks/6fNhZRFEkBfg...   \n",
       "81  https://api.spotify.com/v1/tracks/4NU4ZK3ncM05...   \n",
       "82  https://api.spotify.com/v1/tracks/2dpaYNEQHiRx...   \n",
       "83                                                NaN   \n",
       "\n",
       "                                         analysis_url duration_ms  \\\n",
       "0   https://api.spotify.com/v1/audio-analysis/7Hr1...      326813   \n",
       "1   https://api.spotify.com/v1/audio-analysis/1VuB...      246400   \n",
       "2   https://api.spotify.com/v1/audio-analysis/4NU4...      131715   \n",
       "3   https://api.spotify.com/v1/audio-analysis/4yBi...      258717   \n",
       "4   https://api.spotify.com/v1/audio-analysis/7Hr1...      326813   \n",
       "..                                                ...         ...   \n",
       "79  https://api.spotify.com/v1/audio-analysis/50gP...      196895   \n",
       "80  https://api.spotify.com/v1/audio-analysis/6fNh...      214148   \n",
       "81  https://api.spotify.com/v1/audio-analysis/4NU4...      131715   \n",
       "82  https://api.spotify.com/v1/audio-analysis/2dpa...      214290   \n",
       "83                                                NaN         NaN   \n",
       "\n",
       "   time_signature  \n",
       "0               4  \n",
       "1               4  \n",
       "2               4  \n",
       "3               4  \n",
       "4               4  \n",
       "..            ...  \n",
       "79              4  \n",
       "80              4  \n",
       "81              4  \n",
       "82              4  \n",
       "83            NaN  \n",
       "\n",
       "[84 rows x 29 columns]"
      ]
     },
     "execution_count": 9,
     "metadata": {},
     "output_type": "execute_result"
    }
   ],
   "source": [
    "df"
   ]
  },
  {
   "cell_type": "code",
   "execution_count": 10,
   "metadata": {},
   "outputs": [],
   "source": [
    "df.to_csv('database/database.csv')"
   ]
  }
 ],
 "metadata": {
  "kernelspec": {
   "display_name": "Python 3.9.7 64-bit",
   "language": "python",
   "name": "python3"
  },
  "language_info": {
   "codemirror_mode": {
    "name": "ipython",
    "version": 3
   },
   "file_extension": ".py",
   "mimetype": "text/x-python",
   "name": "python",
   "nbconvert_exporter": "python",
   "pygments_lexer": "ipython3",
   "version": "3.9.7"
  },
  "orig_nbformat": 4,
  "vscode": {
   "interpreter": {
    "hash": "81794d4967e6c3204c66dcd87b604927b115b27c00565d3d43f05ba2f3a2cb0d"
   }
  }
 },
 "nbformat": 4,
 "nbformat_minor": 2
}
