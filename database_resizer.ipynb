{
 "cells": [
  {
   "cell_type": "code",
   "execution_count": 7,
   "metadata": {},
   "outputs": [],
   "source": [
    "import cv2\n",
    "import numpy as np\n",
    "import os\n",
    "from deepface import DeepFace\n",
    "\n",
    "data_p = 'img_database\\\\'\n",
    "resized_p = 'img_database_r'\n",
    "backends = ['opencv', 'ssd', 'dlib', 'mtcnn', 'retinaface', 'mediapipe']\n",
    "count = 1"
   ]
  },
  {
   "cell_type": "markdown",
   "metadata": {},
   "source": [
    "## Passagem com OpenCV"
   ]
  },
  {
   "cell_type": "code",
   "execution_count": 8,
   "metadata": {},
   "outputs": [
    {
     "name": "stdout",
     "output_type": "stream",
     "text": [
      "Error on image: img_database\\Homem\\Pessoa 09\\Feliz.png\n",
      "Error on image: img_database\\Homem\\Pessoa 12\\Triste.png\n",
      "Error on image: img_database\\Mulher\\Pessoa 01\\Feliz.png\n",
      "Error on image: img_database\\Mulher\\Pessoa 01\\Neutro.png\n",
      "Error on image: img_database\\Mulher\\Pessoa 01\\Triste.png\n"
     ]
    }
   ],
   "source": [
    "if not os.path.exists(resized_p) :\n",
    "    os.mkdir(resized_p)\n",
    "for MOW in os.listdir(data_p):\n",
    "    MOW_p = os.path.join(data_p, MOW)\n",
    "\n",
    "    if not os.path.exists(MOW_p.replace('img_database',resized_p)) :\n",
    "        os.mkdir(MOW_p.replace('img_database',resized_p))\n",
    "\n",
    "    for people in os.listdir(MOW_p):\n",
    "        people_p = os.path.join(MOW_p, people)\n",
    "\n",
    "        if not os.path.exists(people_p.replace('img_database',resized_p)) :\n",
    "            os.mkdir(people_p.replace('img_database',resized_p))\n",
    "\n",
    "        for images in os.listdir(people_p):\n",
    "            images_p = os.path.join(people_p, images)\n",
    "\n",
    "            try:\n",
    "                fname = images_p\n",
    "                img = DeepFace.detectFace(fname)\n",
    "                face = img * 255\n",
    "\n",
    "                cv2.imwrite(fname.replace('img_database',resized_p).replace('.png','') + \"_r.png\",face[:, :, ::-1])\n",
    "            except:\n",
    "                print(\"Error on image: \" + images_p) "
   ]
  },
  {
   "cell_type": "markdown",
   "metadata": {},
   "source": [
    "## Passagem com MTCNN"
   ]
  },
  {
   "cell_type": "code",
   "execution_count": 9,
   "metadata": {},
   "outputs": [
    {
     "name": "stdout",
     "output_type": "stream",
     "text": [
      "Error on image: img_database\\Homem\\Pessoa 12\\Neutro.png\n"
     ]
    }
   ],
   "source": [
    "if not os.path.exists(resized_p) :\n",
    "    os.mkdir(resized_p)\n",
    "for MOW in os.listdir(data_p):\n",
    "    MOW_p = os.path.join(data_p, MOW)\n",
    "\n",
    "    if not os.path.exists(MOW_p.replace('img_database',resized_p)) :\n",
    "        os.mkdir(MOW_p.replace('img_database',resized_p))\n",
    "\n",
    "    for people in os.listdir(MOW_p):\n",
    "        people_p = os.path.join(MOW_p, people)\n",
    "\n",
    "        if not os.path.exists(people_p.replace('img_database',resized_p)) :\n",
    "            os.mkdir(people_p.replace('img_database',resized_p))\n",
    "\n",
    "        for images in os.listdir(people_p):\n",
    "            images_p = os.path.join(people_p, images)\n",
    "\n",
    "            try:\n",
    "                fname = images_p\n",
    "                img = DeepFace.detectFace(fname, detector_backend=backends[3])\n",
    "                face = img * 255\n",
    "\n",
    "                cv2.imwrite(fname.replace('img_database',resized_p).replace('.png','') + \"_r.png\",face[:, :, ::-1])\n",
    "            except:\n",
    "                print(\"Error on image: \" + images_p) "
   ]
  }
 ],
 "metadata": {
  "kernelspec": {
   "display_name": "Python 3.9.7 64-bit",
   "language": "python",
   "name": "python3"
  },
  "language_info": {
   "codemirror_mode": {
    "name": "ipython",
    "version": 3
   },
   "file_extension": ".py",
   "mimetype": "text/x-python",
   "name": "python",
   "nbconvert_exporter": "python",
   "pygments_lexer": "ipython3",
   "version": "3.9.7"
  },
  "orig_nbformat": 4,
  "vscode": {
   "interpreter": {
    "hash": "81794d4967e6c3204c66dcd87b604927b115b27c00565d3d43f05ba2f3a2cb0d"
   }
  }
 },
 "nbformat": 4,
 "nbformat_minor": 2
}
