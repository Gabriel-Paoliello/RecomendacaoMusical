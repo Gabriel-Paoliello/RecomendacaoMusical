{
 "cells": [
  {
   "cell_type": "markdown",
   "source": [
    "### Recomendação musical em decorrência do mapeamento facial\n",
    "\n",
    "_Este projeto de pesquisa explora o contexto da Inteligência Artificial para a identificação de microexpressões faciais sutis, de menores dimensões, e involuntárias. Ainda, este projeto utiliza aspectos da musicoterapia, a fim de se viabilizar um sistema de recomendação musical._"
   ],
   "metadata": {}
  },
  {
   "cell_type": "markdown",
   "source": [
    "### Bibliotecas necessárias\n",
    "__________"
   ],
   "metadata": {}
  },
  {
   "cell_type": "code",
   "execution_count": 1,
   "source": [
    "import cv2\n",
    "import numpy as np\n",
    "import os\n",
    "from deepface import DeepFace\n",
    "import pandas as pd\n",
    "from genericpath import exists\n",
    "from pandas import DataFrame\n",
    "from sklearn.neighbors import NearestNeighbors\n",
    "import math\n",
    "import webbrowser\n",
    "from main import training,get_face_image,GetRosto,get_face_param,intervaloConfianca,play_music,feedback"
   ],
   "outputs": [],
   "metadata": {}
  },
  {
   "cell_type": "markdown",
   "source": [
    "### Input (vídeo/foto)\n",
    "_______"
   ],
   "metadata": {}
  },
  {
   "cell_type": "code",
   "execution_count": null,
   "source": [
    "database = pd.read_csv(\"database/database2.csv\")\n",
    "print(database)\n",
    "\n",
    "#Treinamento\n",
    "knn = training(database)\n",
    "\n",
    "img1 = 'img_database_r\\Homem\\Pessoa 04\\Bravo_r.png'\n",
    "\n",
    "#Imagem ou Câmera?\n",
    "pred = get_face_image(GetRosto())\n",
    "#pred = get_face_image(img1)"
   ],
   "outputs": [],
   "metadata": {}
  },
  {
   "cell_type": "markdown",
   "source": [
    "### Dedução da emoção predominante\n",
    "______"
   ],
   "metadata": {}
  },
  {
   "cell_type": "code",
   "execution_count": null,
   "source": [
    "if pred != 0:\n",
    "     new_data = get_face_param(pred)\n",
    "\n",
    "rosto = new_data[['age', 'gender', 'angry', 'disgust', 'fear', 'happy', 'sad', 'surprise', 'neutral']]\n",
    "rosto['gender'] = rosto['gender'].replace('Man',0).replace('Woman',1)\n",
    "print(rosto)\n",
    "\n",
    "item_selected = rosto.iloc[[0]]\n",
    "item_selected = item_selected[rosto.columns] "
   ],
   "outputs": [],
   "metadata": {}
  },
  {
   "cell_type": "markdown",
   "source": [
    "### Recomendação musical \n",
    "\n",
    "________"
   ],
   "metadata": {}
  },
  {
   "cell_type": "code",
   "execution_count": null,
   "source": [
    "# Determine the neighbors\n",
    "d, neighbors = knn.kneighbors(item_selected.values.reshape(1, -1))\n",
    "neighbors = neighbors[0][1::]\n",
    "d = d[0][1::]\n",
    "\n",
    "print(neighbors)\n",
    "\n",
    "neighborsMusics = pd.DataFrame()\n",
    "\n",
    "for x in neighbors:\n",
    "    print(database.iloc[[x]][['danceability', 'energy', 'key', 'loudness', 'mode', 'speechiness',\n",
    "                              'acousticness', 'instrumentalness', 'liveness', 'valence', 'tempo', 'duration_ms']])\n",
    "    neighborsMusics = neighborsMusics.append(database.iloc[[x]][['danceability', 'energy', 'key', 'loudness', 'mode', 'speechiness',\n",
    "                                                                 'acousticness', 'instrumentalness', 'liveness', 'valence', 'tempo', 'duration_ms']])\n",
    "\n",
    "intervalo_params = intervaloConfianca(neighborsMusics)\n",
    "\n",
    "music_names = []\n",
    "artist_names = []\n",
    "artist_genres = []\n",
    "for y in neighbors:\n",
    "    music_names.append(database.iloc[y]['music_name'])\n",
    "    artist_names.append(database.iloc[y]['artist_name'])\n",
    "    res = (database.iloc[y]['artist_genres']).strip('][').split(', ')\n",
    "    for item in res:\n",
    "        if (not (item.replace(\"'\", '') in artist_genres)):\n",
    "            artist_genres.append(item.replace(\"'\", ''))\n",
    "    #artist_genres = [*artist_genres , *(database.iloc[y]['artist_genres'])]\n",
    "    # print(artist_genres)\n",
    "\n",
    "print(intervalo_params)\n",
    "print(music_names)\n",
    "print(artist_names)\n",
    "print(artist_genres)"
   ],
   "outputs": [],
   "metadata": {}
  },
  {
   "cell_type": "markdown",
   "source": [
    "### Spotify Dependences\n",
    "***"
   ],
   "metadata": {}
  },
  {
   "cell_type": "code",
   "execution_count": null,
   "source": [
    "# Spotify WebAPI\n",
    "\n",
    "musicaRecomendada = neighborsMusics\n",
    "\n",
    "musicaRecomendada = neighborsMusics.mean()[['danceability', 'energy', 'key', 'loudness', 'mode', 'speechiness',\n",
    "                                            'acousticness', 'instrumentalness', 'liveness', 'valence', 'tempo']]\n",
    "\n",
    "musicaRecomendada[['key']] = musicaRecomendada[['key']].values.round()\n",
    "musicaRecomendada[['mode']] = musicaRecomendada[['mode']].values.round()\n",
    "musicaRecomendada['duration_ms'] = 210000\n",
    "\n",
    "musicaRecomendada = musicaRecomendada.to_frame().T\n",
    "\n",
    "print(musicaRecomendada)\n",
    "\n",
    "# Recebe musicId\n",
    "play_music(\"2hl6q70unbviGo3g1R7uFx\")\n",
    "\n",
    "feedback(musicaRecomendada, new_data)"
   ],
   "outputs": [],
   "metadata": {}
  },
  {
   "cell_type": "markdown",
   "source": [
    "### Resposta do usuário\n",
    "\n",
    "_______"
   ],
   "metadata": {}
  },
  {
   "cell_type": "code",
   "execution_count": null,
   "source": [],
   "outputs": [],
   "metadata": {}
  },
  {
   "cell_type": "markdown",
   "source": [
    "### Cálculo do erro\n",
    "________"
   ],
   "metadata": {}
  },
  {
   "cell_type": "code",
   "execution_count": null,
   "source": [],
   "outputs": [],
   "metadata": {}
  }
 ],
 "metadata": {
  "interpreter": {
   "hash": "81794d4967e6c3204c66dcd87b604927b115b27c00565d3d43f05ba2f3a2cb0d"
  },
  "kernelspec": {
   "display_name": "Python 3.9.7 64-bit",
   "language": "python",
   "name": "python3"
  },
  "language_info": {
   "codemirror_mode": {
    "name": "ipython",
    "version": 3
   },
   "file_extension": ".py",
   "mimetype": "text/x-python",
   "name": "python",
   "nbconvert_exporter": "python",
   "pygments_lexer": "ipython3",
   "version": "3.9.7"
  },
  "orig_nbformat": 4
 },
 "nbformat": 4,
 "nbformat_minor": 2
}