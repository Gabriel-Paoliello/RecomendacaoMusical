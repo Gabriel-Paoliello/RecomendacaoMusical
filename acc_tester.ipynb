{
 "cells": [
  {
   "cell_type": "code",
   "execution_count": 3,
   "metadata": {},
   "outputs": [],
   "source": [
    "import cv2\n",
    "import numpy as np\n",
    "import os\n",
    "from deepface import DeepFace"
   ]
  },
  {
   "cell_type": "code",
   "execution_count": 4,
   "metadata": {},
   "outputs": [],
   "source": [
    "data_p = 'img_database\\\\'\n",
    "resized_p = 'img_database_r'\n",
    "backends = ['opencv', 'ssd', 'dlib', 'mtcnn', 'retinaface', 'mediapipe']"
   ]
  },
  {
   "cell_type": "code",
   "execution_count": 17,
   "metadata": {},
   "outputs": [
    {
     "name": "stderr",
     "output_type": "stream",
     "text": [
      "Action: race: 100%|██████████| 4/4 [00:01<00:00,  2.39it/s]   \n",
      "Action: race: 100%|██████████| 4/4 [00:01<00:00,  3.60it/s]   \n",
      "Action: race: 100%|██████████| 4/4 [00:01<00:00,  3.36it/s]   \n",
      "Action: race: 100%|██████████| 4/4 [00:01<00:00,  3.75it/s]   \n",
      "Action: race: 100%|██████████| 4/4 [00:01<00:00,  3.84it/s]   \n"
     ]
    },
    {
     "name": "stdout",
     "output_type": "stream",
     "text": [
      "Erro: img_database_r\\Homem\\Pessoa 12\\Bravo_r.png\n",
      "{'emotion': {'angry': 17.607411742210388, 'disgust': 8.524388074874878, 'fear': 27.05378532409668, 'happy': 5.505624786019325, 'sad': 8.901406824588776, 'surprise': 0.05786746623925865, 'neutral': 32.349517941474915}, 'dominant_emotion': 'neutral', 'region': {'x': 24, 'y': 12, 'w': 177, 'h': 212}, 'age': 27, 'gender': 'Man', 'race': {'asian': 0.34269411116838455, 'indian': 0.5541139282286167, 'black': 0.12569872196763754, 'white': 61.66214942932129, 'middle eastern': 10.469978302717209, 'latino hispanic': 26.84536576271057}, 'dominant_race': 'white'}\n"
     ]
    },
    {
     "name": "stderr",
     "output_type": "stream",
     "text": [
      "Action: race: 100%|██████████| 4/4 [00:01<00:00,  3.83it/s]   \n",
      "Action: emotion:   0%|          | 0/4 [00:00<?, ?it/s]\n"
     ]
    },
    {
     "name": "stdout",
     "output_type": "stream",
     "text": [
      "Error on image: img_database_r\\Homem\\Pessoa 12\\Triste_r.png\n"
     ]
    },
    {
     "name": "stderr",
     "output_type": "stream",
     "text": [
      "Action: race: 100%|██████████| 4/4 [00:01<00:00,  3.58it/s]   \n",
      "Action: race: 100%|██████████| 4/4 [00:01<00:00,  3.77it/s]   \n",
      "Action: race: 100%|██████████| 4/4 [00:01<00:00,  3.60it/s]   \n"
     ]
    },
    {
     "name": "stdout",
     "output_type": "stream",
     "text": [
      "Erro: img_database_r\\Homem\\Pessoa 14\\Neutro_r.png\n",
      "{'emotion': {'angry': 42.4815833568573, 'disgust': 0.008898888336261734, 'fear': 16.77604466676712, 'happy': 0.12870229547843337, 'sad': 23.474615812301636, 'surprise': 0.4609726835042238, 'neutral': 16.669180989265442}, 'dominant_emotion': 'angry', 'region': {'x': 28, 'y': 0, 'w': 167, 'h': 240}, 'age': 30, 'gender': 'Man', 'race': {'asian': 5.460820068619243, 'indian': 0.42366967142585854, 'black': 0.12348983128862603, 'white': 72.71701422726939, 'middle eastern': 5.645608601497578, 'latino hispanic': 15.629395469499174}, 'dominant_race': 'white'}\n"
     ]
    },
    {
     "name": "stderr",
     "output_type": "stream",
     "text": [
      "Action: race: 100%|██████████| 4/4 [00:01<00:00,  3.69it/s]   \n"
     ]
    },
    {
     "name": "stdout",
     "output_type": "stream",
     "text": [
      "Erro: img_database_r\\Homem\\Pessoa 14\\Triste_r.png\n",
      "{'emotion': {'angry': 4.0189046412706375, 'disgust': 0.0005397716449806467, 'fear': 59.65393781661987, 'happy': 0.12139780446887016, 'sad': 32.29360282421112, 'surprise': 1.0901561938226223, 'neutral': 2.8214603662490845}, 'dominant_emotion': 'fear', 'region': {'x': 29, 'y': 0, 'w': 159, 'h': 207}, 'age': 26, 'gender': 'Man', 'race': {'asian': 0.005329738725250068, 'indian': 0.002125011198104887, 'black': 9.564789703585014e-05, 'white': 98.21943661934893, 'middle eastern': 0.29120153070073956, 'latino hispanic': 1.4818116187379815}, 'dominant_race': 'white'}\n"
     ]
    },
    {
     "name": "stderr",
     "output_type": "stream",
     "text": [
      "Action: race: 100%|██████████| 4/4 [00:01<00:00,  3.70it/s]   \n",
      "Action: race: 100%|██████████| 4/4 [00:01<00:00,  3.78it/s]   \n",
      "Action: race: 100%|██████████| 4/4 [00:01<00:00,  3.84it/s]   \n",
      "Action: race: 100%|██████████| 4/4 [00:01<00:00,  3.74it/s]   \n",
      "Action: race: 100%|██████████| 4/4 [00:01<00:00,  3.79it/s]   \n"
     ]
    },
    {
     "name": "stdout",
     "output_type": "stream",
     "text": [
      "Erro: img_database_r\\Homem\\Pessoa 18\\Bravo_r.png\n",
      "{'emotion': {'angry': 2.1233422681689262, 'disgust': 0.00010036193316409481, 'fear': 2.0865265280008316, 'happy': 0.1941852387972176, 'sad': 5.501832067966461, 'surprise': 0.04181568219792098, 'neutral': 90.0521993637085}, 'dominant_emotion': 'neutral', 'region': {'x': 30, 'y': 0, 'w': 165, 'h': 218}, 'age': 27, 'gender': 'Man', 'race': {'asian': 0.11463609989732504, 'indian': 0.20157999824732542, 'black': 0.011595951218623668, 'white': 82.80988931655884, 'middle eastern': 11.747759580612183, 'latino hispanic': 5.114541947841644}, 'dominant_race': 'white'}\n"
     ]
    },
    {
     "name": "stderr",
     "output_type": "stream",
     "text": [
      "Action: race: 100%|██████████| 4/4 [00:01<00:00,  3.81it/s]   \n",
      "Action: race: 100%|██████████| 4/4 [00:01<00:00,  3.83it/s]   \n",
      "Action: race: 100%|██████████| 4/4 [00:01<00:00,  3.80it/s]   \n"
     ]
    },
    {
     "name": "stdout",
     "output_type": "stream",
     "text": [
      "Erro: img_database_r\\Homem\\Pessoa 18\\Triste_r.png\n",
      "{'emotion': {'angry': 2.067158743739128, 'disgust': 1.0037232156534515e-07, 'fear': 0.015545594214927405, 'happy': 0.03423430898692459, 'sad': 0.3247442888095975, 'surprise': 0.001653853541938588, 'neutral': 97.55666851997375}, 'dominant_emotion': 'neutral', 'region': {'x': 33, 'y': 0, 'w': 158, 'h': 220}, 'age': 28, 'gender': 'Man', 'race': {'asian': 0.09300027159042656, 'indian': 0.2000016625970602, 'black': 0.008192149107344449, 'white': 78.41075658798218, 'middle eastern': 15.584737062454224, 'latino hispanic': 5.703309550881386}, 'dominant_race': 'white'}\n"
     ]
    },
    {
     "name": "stderr",
     "output_type": "stream",
     "text": [
      "Action: race: 100%|██████████| 4/4 [00:01<00:00,  3.24it/s]   \n",
      "Action: race: 100%|██████████| 4/4 [00:01<00:00,  3.85it/s]   \n",
      "Action: race: 100%|██████████| 4/4 [00:01<00:00,  3.81it/s]   \n"
     ]
    },
    {
     "name": "stdout",
     "output_type": "stream",
     "text": [
      "Erro: img_database_r\\Homem\\Pessoa 4\\Neutro_r.png\n",
      "{'emotion': {'angry': 45.82344864746622, 'disgust': 0.004112435517083735, 'fear': 2.985844939103421, 'happy': 0.0005944214435257924, 'sad': 46.02346396586084, 'surprise': 0.0035017741806698476, 'neutral': 5.1590352600237885}, 'dominant_emotion': 'sad', 'region': {'x': 29, 'y': 0, 'w': 160, 'h': 215}, 'age': 29, 'gender': 'Man', 'race': {'asian': 0.04815644642803818, 'indian': 0.1137759885750711, 'black': 0.008059309038799256, 'white': 80.32109141349792, 'middle eastern': 8.757282048463821, 'latino hispanic': 10.7516348361969}, 'dominant_race': 'white'}\n"
     ]
    },
    {
     "name": "stderr",
     "output_type": "stream",
     "text": [
      "Action: race: 100%|██████████| 4/4 [00:01<00:00,  3.84it/s]   \n"
     ]
    },
    {
     "name": "stdout",
     "output_type": "stream",
     "text": [
      "Erro: img_database_r\\Homem\\Pessoa 4\\Triste_r.png\n",
      "{'emotion': {'angry': 66.15280508995056, 'disgust': 0.06050717202015221, 'fear': 8.196913450956345, 'happy': 0.1078427187167108, 'sad': 16.896313428878784, 'surprise': 2.6174308732151985, 'neutral': 5.968189239501953}, 'dominant_emotion': 'angry', 'region': {'x': 26, 'y': 0, 'w': 163, 'h': 221}, 'age': 30, 'gender': 'Man', 'race': {'asian': 0.04355518613010645, 'indian': 0.05915431538596749, 'black': 0.0038567755836993456, 'white': 86.8829607963562, 'middle eastern': 4.769011586904526, 'latino hispanic': 8.241461217403412}, 'dominant_race': 'white'}\n"
     ]
    },
    {
     "name": "stderr",
     "output_type": "stream",
     "text": [
      "Action: race: 100%|██████████| 4/4 [00:01<00:00,  3.73it/s]   \n"
     ]
    },
    {
     "name": "stdout",
     "output_type": "stream",
     "text": [
      "Erro: img_database_r\\Homem\\Pessoa 6\\Bravo_r.png\n",
      "{'emotion': {'angry': 1.9546867812053226, 'disgust': 0.0011986794041938021, 'fear': 1.221227314027868, 'happy': 0.013478689500808477, 'sad': 2.4606845181307642e-05, 'surprise': 96.80933394320799, 'neutral': 4.289525520801645e-05}, 'dominant_emotion': 'surprise', 'region': {'x': 39, 'y': 6, 'w': 145, 'h': 219}, 'age': 34, 'gender': 'Man', 'race': {'asian': 98.94287579911207, 'indian': 0.2727980655236879, 'black': 0.004620508755405955, 'white': 0.17158058330524464, 'middle eastern': 0.0004336670175878695, 'latino hispanic': 0.6076954201725375}, 'dominant_race': 'asian'}\n"
     ]
    },
    {
     "name": "stderr",
     "output_type": "stream",
     "text": [
      "Action: race: 100%|██████████| 4/4 [00:01<00:00,  3.80it/s]   \n",
      "Action: race: 100%|██████████| 4/4 [00:01<00:00,  3.75it/s]   \n"
     ]
    },
    {
     "name": "stdout",
     "output_type": "stream",
     "text": [
      "Erro: img_database_r\\Homem\\Pessoa 6\\Neutro_r.png\n",
      "{'emotion': {'angry': 0.22881831973791122, 'disgust': 5.11739870034944e-05, 'fear': 48.175498843193054, 'happy': 0.029114395147189498, 'sad': 14.3731489777565, 'surprise': 0.041508887079544365, 'neutral': 37.1518611907959}, 'dominant_emotion': 'fear', 'region': {'x': 30, 'y': 0, 'w': 159, 'h': 218}, 'age': 31, 'gender': 'Man', 'race': {'asian': 99.86159204611731, 'indian': 0.09500122380450211, 'black': 4.378981349856005e-05, 'white': 0.006457079528600992, 'middle eastern': 2.001729603703417e-05, 'latino hispanic': 0.03688923244915053}, 'dominant_race': 'asian'}\n"
     ]
    },
    {
     "name": "stderr",
     "output_type": "stream",
     "text": [
      "Action: race: 100%|██████████| 4/4 [00:01<00:00,  3.70it/s]   \n"
     ]
    },
    {
     "name": "stdout",
     "output_type": "stream",
     "text": [
      "Erro: img_database_r\\Homem\\Pessoa 6\\Triste_r.png\n",
      "{'emotion': {'angry': 14.02161055932108, 'disgust': 0.048471789320180675, 'fear': 58.82982366262815, 'happy': 0.03838399944973734, 'sad': 15.538225504054159, 'surprise': 8.193494867890767, 'neutral': 3.3299880224459186}, 'dominant_emotion': 'fear', 'region': {'x': 40, 'y': 2, 'w': 146, 'h': 218}, 'age': 31, 'gender': 'Man', 'race': {'asian': 99.99634027524706, 'indian': 0.002113493904271424, 'black': 6.677304024182917e-08, 'white': 0.0002980940607160076, 'middle eastern': 3.952394828771007e-07, 'latino hispanic': 0.0012419460628876964}, 'dominant_race': 'asian'}\n"
     ]
    },
    {
     "name": "stderr",
     "output_type": "stream",
     "text": [
      "Action: race: 100%|██████████| 4/4 [00:01<00:00,  3.76it/s]   \n"
     ]
    },
    {
     "name": "stdout",
     "output_type": "stream",
     "text": [
      "Erro: img_database_r\\Homem\\Pessoa 9\\Bravo_r.png\n",
      "{'emotion': {'angry': 20.41068971157074, 'disgust': 0.00202210976567585, 'fear': 12.16246634721756, 'happy': 0.008349587733391672, 'sad': 61.418163776397705, 'surprise': 0.007743735477561131, 'neutral': 5.990566685795784}, 'dominant_emotion': 'sad', 'region': {'x': 29, 'y': 2, 'w': 171, 'h': 216}, 'age': 25, 'gender': 'Man', 'race': {'asian': 14.177385817610372, 'indian': 24.39141418882693, 'black': 6.647512712926431, 'white': 9.9733500166744, 'middle eastern': 10.181826214899194, 'latino hispanic': 34.62851253917888}, 'dominant_race': 'latino hispanic'}\n"
     ]
    },
    {
     "name": "stderr",
     "output_type": "stream",
     "text": [
      "Action: race: 100%|██████████| 4/4 [00:01<00:00,  3.75it/s]   \n",
      "Action: race: 100%|██████████| 4/4 [00:01<00:00,  3.76it/s]   \n",
      "Action: race: 100%|██████████| 4/4 [00:01<00:00,  3.82it/s]   \n",
      "Action: race: 100%|██████████| 4/4 [00:01<00:00,  3.80it/s]   \n",
      "Action: race: 100%|██████████| 4/4 [00:01<00:00,  3.74it/s]   \n",
      "Action: race: 100%|██████████| 4/4 [00:01<00:00,  3.79it/s]   \n",
      "Action: race: 100%|██████████| 4/4 [00:01<00:00,  3.77it/s]   \n"
     ]
    },
    {
     "name": "stdout",
     "output_type": "stream",
     "text": [
      "Erro: img_database_r\\Mulher\\Pessoa 1\\Triste_r.png\n",
      "{'emotion': {'angry': 0.3458934809427548, 'disgust': 4.799573789155027e-05, 'fear': 12.520194799911666, 'happy': 0.0069512327677839405, 'sad': 6.688458126095422, 'surprise': 0.0019630764005816445, 'neutral': 80.43649080017154}, 'dominant_emotion': 'neutral', 'region': {'x': 27, 'y': 0, 'w': 176, 'h': 223}, 'age': 32, 'gender': 'Woman', 'race': {'asian': 22.99983650445938, 'indian': 17.72253066301346, 'black': 9.056983888149261, 'white': 11.199766397476196, 'middle eastern': 9.276733547449112, 'latino hispanic': 29.744145274162292}, 'dominant_race': 'latino hispanic'}\n"
     ]
    },
    {
     "name": "stderr",
     "output_type": "stream",
     "text": [
      "Action: race: 100%|██████████| 4/4 [00:01<00:00,  3.79it/s]   \n",
      "Action: race: 100%|██████████| 4/4 [00:01<00:00,  3.78it/s]   \n",
      "Action: race: 100%|██████████| 4/4 [00:01<00:00,  3.86it/s]   \n"
     ]
    },
    {
     "name": "stdout",
     "output_type": "stream",
     "text": [
      "Erro: img_database_r\\Mulher\\Pessoa 10\\Neutro_r.png\n",
      "{'emotion': {'angry': 0.1946546952240169, 'disgust': 7.609745011905034e-05, 'fear': 29.177218675613403, 'happy': 0.427446560934186, 'sad': 0.0864875444676727, 'surprise': 45.0021892786026, 'neutral': 25.111928582191467}, 'dominant_emotion': 'surprise', 'region': {'x': 31, 'y': 0, 'w': 162, 'h': 226}, 'age': 33, 'gender': 'Man', 'race': {'asian': 0.6860556546598673, 'indian': 2.329465188086033, 'black': 0.17886082641780376, 'white': 52.19505429267883, 'middle eastern': 25.957587361335754, 'latino hispanic': 18.65297555923462}, 'dominant_race': 'white'}\n"
     ]
    },
    {
     "name": "stderr",
     "output_type": "stream",
     "text": [
      "Action: race: 100%|██████████| 4/4 [00:01<00:00,  3.77it/s]   \n",
      "Action: race: 100%|██████████| 4/4 [00:01<00:00,  3.78it/s]   \n",
      "Action: race: 100%|██████████| 4/4 [00:01<00:00,  3.75it/s]   \n",
      "Action: race: 100%|██████████| 4/4 [00:01<00:00,  3.75it/s]   \n",
      "Action: race: 100%|██████████| 4/4 [00:01<00:00,  3.76it/s]   \n",
      "Action: race: 100%|██████████| 4/4 [00:01<00:00,  3.76it/s]   \n",
      "Action: race: 100%|██████████| 4/4 [00:01<00:00,  3.84it/s]   \n",
      "Action: race: 100%|██████████| 4/4 [00:01<00:00,  3.86it/s]   \n",
      "Action: race: 100%|██████████| 4/4 [00:01<00:00,  3.81it/s]   \n",
      "Action: race: 100%|██████████| 4/4 [00:01<00:00,  3.83it/s]   \n",
      "Action: race: 100%|██████████| 4/4 [00:01<00:00,  3.80it/s]   \n",
      "Action: race: 100%|██████████| 4/4 [00:01<00:00,  3.81it/s]   \n",
      "Action: race: 100%|██████████| 4/4 [00:01<00:00,  3.80it/s]   \n"
     ]
    },
    {
     "name": "stdout",
     "output_type": "stream",
     "text": [
      "Erro: img_database_r\\Mulher\\Pessoa 16\\Triste_r.png\n",
      "{'emotion': {'angry': 0.04125046343071449, 'disgust': 0.007159053222174931, 'fear': 0.010502463759095072, 'happy': 98.29881807579778, 'sad': 0.09862172871494547, 'surprise': 0.00018502615898637604, 'neutral': 1.5434568770579247}, 'dominant_emotion': 'happy', 'region': {'x': 33, 'y': 0, 'w': 155, 'h': 230}, 'age': 44, 'gender': 'Woman', 'race': {'asian': 99.66856239250674, 'indian': 0.05360825190407049, 'black': 9.184655006652565e-05, 'white': 0.14473282197760476, 'middle eastern': 0.00020512869781970434, 'latino hispanic': 0.1328068980943798}, 'dominant_race': 'asian'}\n"
     ]
    },
    {
     "name": "stderr",
     "output_type": "stream",
     "text": [
      "Action: race: 100%|██████████| 4/4 [00:01<00:00,  3.81it/s]   \n",
      "Action: race: 100%|██████████| 4/4 [00:01<00:00,  3.80it/s]   \n",
      "Action: race: 100%|██████████| 4/4 [00:01<00:00,  3.83it/s]   \n"
     ]
    },
    {
     "name": "stdout",
     "output_type": "stream",
     "text": [
      "Erro: img_database_r\\Mulher\\Pessoa 2\\Neutro_r.png\n",
      "{'emotion': {'angry': 45.893558859825134, 'disgust': 6.918196380138397, 'fear': 9.153008460998535, 'happy': 0.008969280315795913, 'sad': 37.32644319534302, 'surprise': 0.12031687656417489, 'neutral': 0.5795088596642017}, 'dominant_emotion': 'angry', 'region': {'x': 29, 'y': 1, 'w': 162, 'h': 214}, 'age': 35, 'gender': 'Woman', 'race': {'asian': 9.354473604616942e-05, 'indian': 6.918876351846848e-05, 'black': 4.764588279471127e-07, 'white': 99.61102604866028, 'middle eastern': 0.25241514667868614, 'latino hispanic': 0.13639936223626137}, 'dominant_race': 'white'}\n"
     ]
    },
    {
     "name": "stderr",
     "output_type": "stream",
     "text": [
      "Action: race: 100%|██████████| 4/4 [00:01<00:00,  3.84it/s]   \n"
     ]
    },
    {
     "name": "stdout",
     "output_type": "stream",
     "text": [
      "Erro: img_database_r\\Mulher\\Pessoa 2\\Triste_r.png\n",
      "{'emotion': {'angry': 1.1424613185226917, 'disgust': 58.973151445388794, 'fear': 13.461382687091827, 'happy': 0.0010169002052862197, 'sad': 26.0494202375412, 'surprise': 0.18931964877992868, 'neutral': 0.18324735574424267}, 'dominant_emotion': 'disgust', 'region': {'x': 30, 'y': 0, 'w': 163, 'h': 221}, 'age': 33, 'gender': 'Woman', 'race': {'asian': 0.13653296859758904, 'indian': 0.3526095743915185, 'black': 0.02177343542547884, 'white': 71.39694520216854, 'middle eastern': 17.81302051621798, 'latino hispanic': 10.27912037248137}, 'dominant_race': 'white'}\n"
     ]
    },
    {
     "name": "stderr",
     "output_type": "stream",
     "text": [
      "Action: race: 100%|██████████| 4/4 [00:01<00:00,  3.78it/s]   \n",
      "Action: race: 100%|██████████| 4/4 [00:01<00:00,  3.29it/s]   \n",
      "Action: race: 100%|██████████| 4/4 [00:01<00:00,  3.81it/s]   \n"
     ]
    },
    {
     "name": "stdout",
     "output_type": "stream",
     "text": [
      "Erro: img_database_r\\Mulher\\Pessoa 3\\Neutro_r.png\n",
      "{'emotion': {'angry': 51.0827512194366, 'disgust': 0.0047071388585091445, 'fear': 10.981042592587626, 'happy': 0.0016036478928951221, 'sad': 28.18665374437891, 'surprise': 0.05920731116949386, 'neutral': 9.684039484503238}, 'dominant_emotion': 'angry', 'region': {'x': 26, 'y': 0, 'w': 170, 'h': 217}, 'age': 31, 'gender': 'Woman', 'race': {'asian': 0.0017674959963187575, 'indian': 0.0010931002179859206, 'black': 1.2653933367801073e-05, 'white': 98.06663393974304, 'middle eastern': 0.7826781831681728, 'latino hispanic': 1.147816888988018}, 'dominant_race': 'white'}\n"
     ]
    },
    {
     "name": "stderr",
     "output_type": "stream",
     "text": [
      "Action: race: 100%|██████████| 4/4 [00:01<00:00,  3.84it/s]   \n",
      "Action: race: 100%|██████████| 4/4 [00:01<00:00,  3.77it/s]   \n"
     ]
    },
    {
     "name": "stdout",
     "output_type": "stream",
     "text": [
      "Erro: img_database_r\\Mulher\\Pessoa 5\\Bravo_r.png\n",
      "{'emotion': {'angry': 20.41500210762024, 'disgust': 1.8748653474176535e-05, 'fear': 0.4834288265556097, 'happy': 0.8788756094872952, 'sad': 2.371826209127903, 'surprise': 0.0011538401849975344, 'neutral': 75.84969997406006}, 'dominant_emotion': 'neutral', 'region': {'x': 26, 'y': 0, 'w': 164, 'h': 221}, 'age': 29, 'gender': 'Woman', 'race': {'asian': 14.744266256348267, 'indian': 6.102484828381826, 'black': 1.2520694920164044, 'white': 33.04489153891156, 'middle eastern': 21.63094858115605, 'latino hispanic': 23.225340141376265}, 'dominant_race': 'white'}\n"
     ]
    },
    {
     "name": "stderr",
     "output_type": "stream",
     "text": [
      "Action: race: 100%|██████████| 4/4 [00:01<00:00,  3.84it/s]   \n",
      "Action: race: 100%|██████████| 4/4 [00:01<00:00,  3.81it/s]   \n",
      "Action: race: 100%|██████████| 4/4 [00:01<00:00,  3.79it/s]   \n",
      "Action: race: 100%|██████████| 4/4 [00:01<00:00,  3.75it/s]   \n",
      "Action: race: 100%|██████████| 4/4 [00:01<00:00,  3.82it/s]   \n",
      "Action: race: 100%|██████████| 4/4 [00:01<00:00,  3.84it/s]   \n",
      "Action: race: 100%|██████████| 4/4 [00:01<00:00,  3.82it/s]   \n",
      "Action: race: 100%|██████████| 4/4 [00:01<00:00,  3.75it/s]   \n"
     ]
    },
    {
     "name": "stdout",
     "output_type": "stream",
     "text": [
      "Erro: img_database_r\\Mulher\\Pessoa 8\\Bravo_r.png\n",
      "{'emotion': {'angry': 31.462113944418068, 'disgust': 0.06753809686977248, 'fear': 19.02177596222019, 'happy': 0.0001406177118183426, 'sad': 32.37552835795452, 'surprise': 0.09565232309675652, 'neutral': 16.977244137361296}, 'dominant_emotion': 'sad', 'region': {'x': 32, 'y': 2, 'w': 163, 'h': 214}, 'age': 26, 'gender': 'Woman', 'race': {'asian': 4.7107576406453635, 'indian': 10.906976366458915, 'black': 1.7678252543702873, 'white': 27.130653091111963, 'middle eastern': 25.717230183913124, 'latino hispanic': 29.766555414590563}, 'dominant_race': 'latino hispanic'}\n"
     ]
    },
    {
     "name": "stderr",
     "output_type": "stream",
     "text": [
      "Action: race: 100%|██████████| 4/4 [00:01<00:00,  3.79it/s]   \n"
     ]
    },
    {
     "name": "stdout",
     "output_type": "stream",
     "text": [
      "Erro: img_database_r\\Mulher\\Pessoa 8\\Feliz_r.png\n",
      "{'emotion': {'angry': 0.680682075091353, 'disgust': 0.007334472173766756, 'fear': 3.9394292009557246, 'happy': 0.6425696590459753, 'sad': 94.45478386225892, 'surprise': 0.1387473379637494, 'neutral': 0.13645055707015907}, 'dominant_emotion': 'sad', 'region': {'x': 25, 'y': 7, 'w': 166, 'h': 220}, 'age': 35, 'gender': 'Woman', 'race': {'asian': 26.167985796928406, 'indian': 5.004950612783432, 'black': 1.2473474256694317, 'white': 27.774685621261597, 'middle eastern': 18.533891439437866, 'latino hispanic': 21.271145343780518}, 'dominant_race': 'white'}\n"
     ]
    },
    {
     "name": "stderr",
     "output_type": "stream",
     "text": [
      "Action: race: 100%|██████████| 4/4 [00:01<00:00,  3.83it/s]   \n"
     ]
    },
    {
     "name": "stdout",
     "output_type": "stream",
     "text": [
      "Erro: img_database_r\\Mulher\\Pessoa 8\\Neutro_r.png\n",
      "{'emotion': {'angry': 4.174134507775307, 'disgust': 0.00022887859358888818, 'fear': 0.12981394538655877, 'happy': 0.02148654020857066, 'sad': 70.99849581718445, 'surprise': 6.50188553663611e-05, 'neutral': 24.675777554512024}, 'dominant_emotion': 'sad', 'region': {'x': 33, 'y': 0, 'w': 160, 'h': 215}, 'age': 31, 'gender': 'Woman', 'race': {'asian': 11.82747334241867, 'indian': 6.407783180475235, 'black': 1.2010869570076466, 'white': 30.83529770374298, 'middle eastern': 22.29352593421936, 'latino hispanic': 27.434837818145752}, 'dominant_race': 'white'}\n"
     ]
    },
    {
     "name": "stderr",
     "output_type": "stream",
     "text": [
      "Action: race: 100%|██████████| 4/4 [00:01<00:00,  3.77it/s]   "
     ]
    },
    {
     "name": "stdout",
     "output_type": "stream",
     "text": [
      "count_error: 21\n",
      "count_read_images: 70\n",
      "count_images: 71\n"
     ]
    },
    {
     "name": "stderr",
     "output_type": "stream",
     "text": [
      "\n"
     ]
    }
   ],
   "source": [
    "count_images = 0\n",
    "count_read_images = 0\n",
    "count_error = 0\n",
    "for MOW in os.listdir(resized_p):\n",
    "    MOW_p = os.path.join(resized_p, MOW)\n",
    "\n",
    "    for people in os.listdir(MOW_p):\n",
    "        people_p = os.path.join(MOW_p, people)\n",
    "\n",
    "        for images in os.listdir(people_p):\n",
    "            images_p = os.path.join(people_p, images)\n",
    "\n",
    "            try:\n",
    "                count_images += 1\n",
    "                fname = images_p\n",
    "\n",
    "                predictions = DeepFace.analyze(fname, detector_backend=backends[3])\n",
    "                #print(predictions)\n",
    "\n",
    "                count_read_images += 1\n",
    "\n",
    "                if(images == 'Bravo_r.png'):\n",
    "                    img_emotion = 'angry'\n",
    "                elif(images == 'Feliz_r.png'):\n",
    "                    img_emotion = 'happy'\n",
    "                elif(images == 'Neutro_r.png'):\n",
    "                    img_emotion = 'neutral'\n",
    "                elif(images == 'Triste_r.png'):\n",
    "                    img_emotion = 'sad'\n",
    "\n",
    "                if (predictions['dominant_emotion'] != img_emotion) :\n",
    "                    print(\"Erro: \"+ images_p)\n",
    "                    print(predictions)\n",
    "                    count_error += 1\n",
    "                \n",
    "            except:\n",
    "                print(\"Error on image: \" + images_p) \n",
    "\n",
    "print('count_error:', count_error)\n",
    "print('count_read_images:', count_read_images)\n",
    "print('count_images:', count_images)"
   ]
  }
 ],
 "metadata": {
  "kernelspec": {
   "display_name": "Python 3.9.7 64-bit",
   "language": "python",
   "name": "python3"
  },
  "language_info": {
   "codemirror_mode": {
    "name": "ipython",
    "version": 3
   },
   "file_extension": ".py",
   "mimetype": "text/x-python",
   "name": "python",
   "nbconvert_exporter": "python",
   "pygments_lexer": "ipython3",
   "version": "3.9.7"
  },
  "orig_nbformat": 4,
  "vscode": {
   "interpreter": {
    "hash": "81794d4967e6c3204c66dcd87b604927b115b27c00565d3d43f05ba2f3a2cb0d"
   }
  }
 },
 "nbformat": 4,
 "nbformat_minor": 2
}
